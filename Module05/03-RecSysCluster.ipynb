{
 "cells": [
  {
   "cell_type": "markdown",
   "id": "27f62984",
   "metadata": {},
   "source": [
    "# RecSys via Clustering\n",
    "\n",
    "Using the IMDB and MovieLens data, we build a feature matrix that we can use for recommendation.\n",
    "\n",
    "We build clusters of users from this data and evaluate the most popular movies in each cluster as our recommendations."
   ]
  },
  {
   "cell_type": "code",
   "execution_count": 1,
   "id": "07e387c4",
   "metadata": {},
   "outputs": [],
   "source": [
    "%matplotlib inline"
   ]
  },
  {
   "cell_type": "code",
   "execution_count": 2,
   "id": "c8fd986a",
   "metadata": {},
   "outputs": [],
   "source": [
    "import json\n",
    "import random\n",
    "import pandas as pd\n",
    "import numpy as np\n",
    "\n",
    "import matplotlib.pyplot as plt\n",
    "\n",
    "from collections import Counter\n",
    "\n",
    "from scipy.sparse import lil_matrix\n",
    "\n",
    "from sklearn.neighbors import DistanceMetric\n",
    "\n",
    "from sklearn.metrics import jaccard_score\n",
    "from sklearn.metrics import pairwise_distances"
   ]
  },
  {
   "cell_type": "code",
   "execution_count": 3,
   "id": "9f24cf71",
   "metadata": {},
   "outputs": [],
   "source": [
    "known_movies = set()\n",
    "\n",
    "user_ratings = {} # List of all our movie ratings for specific users\n",
    "movie_ids = []\n",
    "\n",
    "with open(\"../data/user_ratings.json\", \"r\") as in_file:\n",
    "    for line in in_file:\n",
    "        \n",
    "        this_rating = json.loads(line)\n",
    "        \n",
    "        known_movies.add(this_rating[\"title_id\"])\n",
    "        \n",
    "        if this_rating[\"title_id\"] not in movie_ids:\n",
    "            movie_ids.append(this_rating[\"title_id\"])\n",
    "        \n",
    "        this_users_ratings = user_ratings.get(this_rating[\"userId\"], [])\n",
    "        this_users_ratings.append((this_rating[\"title_id\"], this_rating[\"rating\"]))\n",
    "        \n",
    "        user_ratings[this_rating[\"userId\"]] = this_users_ratings\n",
    "        \n",
    "        "
   ]
  },
  {
   "cell_type": "code",
   "execution_count": 4,
   "id": "daf97658",
   "metadata": {},
   "outputs": [],
   "source": [
    "movie_id_to_index = {m:i for i,m in enumerate(movie_ids)}"
   ]
  },
  {
   "cell_type": "code",
   "execution_count": 5,
   "id": "6f813b51",
   "metadata": {},
   "outputs": [
    {
     "name": "stdout",
     "output_type": "stream",
     "text": [
      "Known Users: 2244\n",
      "Known Movies: 4465\n"
     ]
    }
   ],
   "source": [
    "print(\"Known Users:\", len(user_ratings))\n",
    "print(\"Known Movies:\", len(known_movies))\n"
   ]
  },
  {
   "cell_type": "code",
   "execution_count": 6,
   "id": "c84e5414",
   "metadata": {},
   "outputs": [],
   "source": [
    "actor_id_to_name_map = {}     # Map Actor IDs to actor names\n",
    "actor_id_to_index_map = {}    # Map actor IDs to a unique index of known actors\n",
    "index_to_actor_ids = []       # Array mapping unique index back to actor ID (invert of actor_id_to_index_map)\n",
    "\n",
    "index_counter = 0    # Unique actor index; increment for each new actor\n",
    "known_actors = set()\n",
    "\n",
    "movie_actor_map = {} # List of all our movies and their actors\n",
    "\n",
    "test_count = 0\n",
    "with open(\"../data/imdb_recent_movies.json\", \"r\") as in_file:\n",
    "    for line in in_file:\n",
    "        \n",
    "        this_movie = json.loads(line)\n",
    "        \n",
    "        # Restrict to known movies\n",
    "        if this_movie[\"title_id\"] not in known_movies:\n",
    "            continue\n",
    "            \n",
    "        # Keep track of all the actors in this movie\n",
    "        for actor_id,actor_name in zip(this_movie['actor_ids'],this_movie['actor_names']):\n",
    "            \n",
    "            # Keep names and IDs\n",
    "            actor_id_to_name_map[actor_id] = actor_name\n",
    "            \n",
    "            # If we've seen this actor before, skip...\n",
    "            if actor_id in known_actors:\n",
    "                continue\n",
    "                \n",
    "            # ... Otherwise, add to known actor set and create new index for them\n",
    "            known_actors.add(actor_id)\n",
    "            actor_id_to_index_map[actor_id] = index_counter\n",
    "            index_to_actor_ids.append(actor_id)\n",
    "            index_counter += 1\n",
    "            \n",
    "        # Finished with this film\n",
    "        movie_actor_map[this_movie[\"title_id\"]] = ({\n",
    "            \"movie\": this_movie[\"title_name\"],\n",
    "            \"actors\": set(this_movie['actor_ids']),\n",
    "            \"genres\": this_movie[\"title_genre\"]\n",
    "        })"
   ]
  },
  {
   "cell_type": "code",
   "execution_count": 7,
   "id": "d092191c",
   "metadata": {},
   "outputs": [
    {
     "name": "stdout",
     "output_type": "stream",
     "text": [
      "Known Actors: 5224\n",
      "Known Movies: 4465\n"
     ]
    }
   ],
   "source": [
    "print(\"Known Actors:\", len(known_actors))\n",
    "print(\"Known Movies:\", len(movie_actor_map))"
   ]
  },
  {
   "cell_type": "markdown",
   "id": "7dc5e9c8",
   "metadata": {},
   "source": [
    "## Generate DataFrame using Sparse Matrics\n",
    "\n",
    "Convert our Movie Ratings data into a DataFrame that we can use for analysis."
   ]
  },
  {
   "cell_type": "code",
   "execution_count": 8,
   "id": "c6d7bebf",
   "metadata": {},
   "outputs": [],
   "source": [
    "# With sparse matrix, initialize to size of Users x Movies of 0s\n",
    "matrix_sparse = lil_matrix((len(user_ratings), len(known_movies)), dtype=float)\n",
    "\n",
    "# Update the matrix, user by user, setting non-zero values for the appropriate actors\n",
    "for row,this_user in enumerate(user_ratings): \n",
    "    this_user_ratings = user_ratings[this_user]\n",
    "    \n",
    "    for movie_id,rating in this_user_ratings:\n",
    "        this_movie_index = movie_id_to_index[movie_id]\n",
    "        matrix_sparse[row,this_movie_index] = rating"
   ]
  },
  {
   "cell_type": "code",
   "execution_count": 9,
   "id": "ea7c2844",
   "metadata": {},
   "outputs": [
    {
     "data": {
      "text/html": [
       "<div>\n",
       "<style scoped>\n",
       "    .dataframe tbody tr th:only-of-type {\n",
       "        vertical-align: middle;\n",
       "    }\n",
       "\n",
       "    .dataframe tbody tr th {\n",
       "        vertical-align: top;\n",
       "    }\n",
       "\n",
       "    .dataframe thead th {\n",
       "        text-align: right;\n",
       "    }\n",
       "</style>\n",
       "<table border=\"1\" class=\"dataframe\">\n",
       "  <thead>\n",
       "    <tr style=\"text-align: right;\">\n",
       "      <th></th>\n",
       "      <th>10</th>\n",
       "      <th>37</th>\n",
       "      <th>51</th>\n",
       "      <th>126</th>\n",
       "      <th>152</th>\n",
       "      <th>263</th>\n",
       "      <th>284</th>\n",
       "      <th>448</th>\n",
       "      <th>626</th>\n",
       "      <th>706</th>\n",
       "      <th>...</th>\n",
       "      <th>162002</th>\n",
       "      <th>162073</th>\n",
       "      <th>162207</th>\n",
       "      <th>162257</th>\n",
       "      <th>162363</th>\n",
       "      <th>162420</th>\n",
       "      <th>162434</th>\n",
       "      <th>162464</th>\n",
       "      <th>162499</th>\n",
       "      <th>162537</th>\n",
       "    </tr>\n",
       "  </thead>\n",
       "  <tbody>\n",
       "    <tr>\n",
       "      <th>tt0274309</th>\n",
       "      <td>3.0</td>\n",
       "      <td>0.0</td>\n",
       "      <td>0.0</td>\n",
       "      <td>0.0</td>\n",
       "      <td>0.0</td>\n",
       "      <td>0.0</td>\n",
       "      <td>0.0</td>\n",
       "      <td>0.0</td>\n",
       "      <td>0.0</td>\n",
       "      <td>0.0</td>\n",
       "      <td>...</td>\n",
       "      <td>0.0</td>\n",
       "      <td>0.0</td>\n",
       "      <td>0.0</td>\n",
       "      <td>0.0</td>\n",
       "      <td>0.0</td>\n",
       "      <td>0.0</td>\n",
       "      <td>0.0</td>\n",
       "      <td>0.0</td>\n",
       "      <td>0.0</td>\n",
       "      <td>0.0</td>\n",
       "    </tr>\n",
       "    <tr>\n",
       "      <th>tt0298203</th>\n",
       "      <td>2.5</td>\n",
       "      <td>0.0</td>\n",
       "      <td>0.0</td>\n",
       "      <td>0.0</td>\n",
       "      <td>0.0</td>\n",
       "      <td>0.0</td>\n",
       "      <td>0.0</td>\n",
       "      <td>0.0</td>\n",
       "      <td>0.0</td>\n",
       "      <td>0.0</td>\n",
       "      <td>...</td>\n",
       "      <td>0.0</td>\n",
       "      <td>0.0</td>\n",
       "      <td>0.0</td>\n",
       "      <td>0.0</td>\n",
       "      <td>0.0</td>\n",
       "      <td>0.0</td>\n",
       "      <td>0.0</td>\n",
       "      <td>0.0</td>\n",
       "      <td>0.0</td>\n",
       "      <td>0.0</td>\n",
       "    </tr>\n",
       "    <tr>\n",
       "      <th>tt0315733</th>\n",
       "      <td>3.0</td>\n",
       "      <td>0.0</td>\n",
       "      <td>0.0</td>\n",
       "      <td>0.0</td>\n",
       "      <td>0.0</td>\n",
       "      <td>0.0</td>\n",
       "      <td>0.0</td>\n",
       "      <td>0.0</td>\n",
       "      <td>0.0</td>\n",
       "      <td>0.0</td>\n",
       "      <td>...</td>\n",
       "      <td>0.0</td>\n",
       "      <td>0.0</td>\n",
       "      <td>0.0</td>\n",
       "      <td>0.0</td>\n",
       "      <td>0.0</td>\n",
       "      <td>0.0</td>\n",
       "      <td>0.0</td>\n",
       "      <td>0.0</td>\n",
       "      <td>0.0</td>\n",
       "      <td>0.0</td>\n",
       "    </tr>\n",
       "    <tr>\n",
       "      <th>tt0337563</th>\n",
       "      <td>1.0</td>\n",
       "      <td>0.0</td>\n",
       "      <td>0.0</td>\n",
       "      <td>0.0</td>\n",
       "      <td>0.0</td>\n",
       "      <td>0.0</td>\n",
       "      <td>0.5</td>\n",
       "      <td>0.0</td>\n",
       "      <td>4.0</td>\n",
       "      <td>0.0</td>\n",
       "      <td>...</td>\n",
       "      <td>0.0</td>\n",
       "      <td>0.0</td>\n",
       "      <td>0.0</td>\n",
       "      <td>0.0</td>\n",
       "      <td>0.0</td>\n",
       "      <td>0.0</td>\n",
       "      <td>0.0</td>\n",
       "      <td>0.0</td>\n",
       "      <td>0.0</td>\n",
       "      <td>0.0</td>\n",
       "    </tr>\n",
       "    <tr>\n",
       "      <th>tt0463854</th>\n",
       "      <td>4.0</td>\n",
       "      <td>0.0</td>\n",
       "      <td>0.0</td>\n",
       "      <td>0.0</td>\n",
       "      <td>0.0</td>\n",
       "      <td>0.0</td>\n",
       "      <td>3.0</td>\n",
       "      <td>0.0</td>\n",
       "      <td>0.0</td>\n",
       "      <td>0.0</td>\n",
       "      <td>...</td>\n",
       "      <td>0.0</td>\n",
       "      <td>0.0</td>\n",
       "      <td>0.0</td>\n",
       "      <td>0.0</td>\n",
       "      <td>0.0</td>\n",
       "      <td>0.0</td>\n",
       "      <td>0.0</td>\n",
       "      <td>0.0</td>\n",
       "      <td>0.0</td>\n",
       "      <td>0.0</td>\n",
       "    </tr>\n",
       "    <tr>\n",
       "      <th>...</th>\n",
       "      <td>...</td>\n",
       "      <td>...</td>\n",
       "      <td>...</td>\n",
       "      <td>...</td>\n",
       "      <td>...</td>\n",
       "      <td>...</td>\n",
       "      <td>...</td>\n",
       "      <td>...</td>\n",
       "      <td>...</td>\n",
       "      <td>...</td>\n",
       "      <td>...</td>\n",
       "      <td>...</td>\n",
       "      <td>...</td>\n",
       "      <td>...</td>\n",
       "      <td>...</td>\n",
       "      <td>...</td>\n",
       "      <td>...</td>\n",
       "      <td>...</td>\n",
       "      <td>...</td>\n",
       "      <td>...</td>\n",
       "      <td>...</td>\n",
       "    </tr>\n",
       "    <tr>\n",
       "      <th>tt4241904</th>\n",
       "      <td>0.0</td>\n",
       "      <td>0.0</td>\n",
       "      <td>0.0</td>\n",
       "      <td>0.0</td>\n",
       "      <td>0.0</td>\n",
       "      <td>0.0</td>\n",
       "      <td>0.0</td>\n",
       "      <td>0.0</td>\n",
       "      <td>0.0</td>\n",
       "      <td>0.0</td>\n",
       "      <td>...</td>\n",
       "      <td>0.0</td>\n",
       "      <td>0.0</td>\n",
       "      <td>0.0</td>\n",
       "      <td>1.0</td>\n",
       "      <td>0.0</td>\n",
       "      <td>0.0</td>\n",
       "      <td>0.0</td>\n",
       "      <td>0.0</td>\n",
       "      <td>0.0</td>\n",
       "      <td>0.0</td>\n",
       "    </tr>\n",
       "    <tr>\n",
       "      <th>tt1666800</th>\n",
       "      <td>0.0</td>\n",
       "      <td>0.0</td>\n",
       "      <td>0.0</td>\n",
       "      <td>0.0</td>\n",
       "      <td>0.0</td>\n",
       "      <td>0.0</td>\n",
       "      <td>0.0</td>\n",
       "      <td>0.0</td>\n",
       "      <td>0.0</td>\n",
       "      <td>0.0</td>\n",
       "      <td>...</td>\n",
       "      <td>0.0</td>\n",
       "      <td>0.0</td>\n",
       "      <td>0.0</td>\n",
       "      <td>4.0</td>\n",
       "      <td>0.0</td>\n",
       "      <td>0.0</td>\n",
       "      <td>0.0</td>\n",
       "      <td>0.0</td>\n",
       "      <td>0.0</td>\n",
       "      <td>0.0</td>\n",
       "    </tr>\n",
       "    <tr>\n",
       "      <th>tt6806448</th>\n",
       "      <td>0.0</td>\n",
       "      <td>0.0</td>\n",
       "      <td>0.0</td>\n",
       "      <td>0.0</td>\n",
       "      <td>0.0</td>\n",
       "      <td>0.0</td>\n",
       "      <td>0.0</td>\n",
       "      <td>0.0</td>\n",
       "      <td>0.0</td>\n",
       "      <td>0.0</td>\n",
       "      <td>...</td>\n",
       "      <td>0.0</td>\n",
       "      <td>0.0</td>\n",
       "      <td>0.0</td>\n",
       "      <td>4.0</td>\n",
       "      <td>0.0</td>\n",
       "      <td>0.0</td>\n",
       "      <td>0.0</td>\n",
       "      <td>0.0</td>\n",
       "      <td>0.0</td>\n",
       "      <td>0.0</td>\n",
       "    </tr>\n",
       "    <tr>\n",
       "      <th>tt0844671</th>\n",
       "      <td>0.0</td>\n",
       "      <td>0.0</td>\n",
       "      <td>0.0</td>\n",
       "      <td>0.0</td>\n",
       "      <td>0.0</td>\n",
       "      <td>0.0</td>\n",
       "      <td>0.0</td>\n",
       "      <td>0.0</td>\n",
       "      <td>0.0</td>\n",
       "      <td>0.0</td>\n",
       "      <td>...</td>\n",
       "      <td>0.0</td>\n",
       "      <td>0.0</td>\n",
       "      <td>0.0</td>\n",
       "      <td>0.0</td>\n",
       "      <td>0.0</td>\n",
       "      <td>0.0</td>\n",
       "      <td>2.0</td>\n",
       "      <td>0.0</td>\n",
       "      <td>0.0</td>\n",
       "      <td>0.0</td>\n",
       "    </tr>\n",
       "    <tr>\n",
       "      <th>tt0472198</th>\n",
       "      <td>0.0</td>\n",
       "      <td>0.0</td>\n",
       "      <td>0.0</td>\n",
       "      <td>0.0</td>\n",
       "      <td>0.0</td>\n",
       "      <td>0.0</td>\n",
       "      <td>0.0</td>\n",
       "      <td>0.0</td>\n",
       "      <td>0.0</td>\n",
       "      <td>0.0</td>\n",
       "      <td>...</td>\n",
       "      <td>0.0</td>\n",
       "      <td>0.0</td>\n",
       "      <td>0.0</td>\n",
       "      <td>0.0</td>\n",
       "      <td>0.0</td>\n",
       "      <td>0.0</td>\n",
       "      <td>3.5</td>\n",
       "      <td>0.0</td>\n",
       "      <td>0.0</td>\n",
       "      <td>0.0</td>\n",
       "    </tr>\n",
       "  </tbody>\n",
       "</table>\n",
       "<p>4465 rows × 2244 columns</p>\n",
       "</div>"
      ],
      "text/plain": [
       "            10   37   51  126  152  263  284  448  626  706  ...  162002  \\\n",
       "tt0274309  3.0  0.0  0.0  0.0  0.0  0.0  0.0  0.0  0.0  0.0  ...     0.0   \n",
       "tt0298203  2.5  0.0  0.0  0.0  0.0  0.0  0.0  0.0  0.0  0.0  ...     0.0   \n",
       "tt0315733  3.0  0.0  0.0  0.0  0.0  0.0  0.0  0.0  0.0  0.0  ...     0.0   \n",
       "tt0337563  1.0  0.0  0.0  0.0  0.0  0.0  0.5  0.0  4.0  0.0  ...     0.0   \n",
       "tt0463854  4.0  0.0  0.0  0.0  0.0  0.0  3.0  0.0  0.0  0.0  ...     0.0   \n",
       "...        ...  ...  ...  ...  ...  ...  ...  ...  ...  ...  ...     ...   \n",
       "tt4241904  0.0  0.0  0.0  0.0  0.0  0.0  0.0  0.0  0.0  0.0  ...     0.0   \n",
       "tt1666800  0.0  0.0  0.0  0.0  0.0  0.0  0.0  0.0  0.0  0.0  ...     0.0   \n",
       "tt6806448  0.0  0.0  0.0  0.0  0.0  0.0  0.0  0.0  0.0  0.0  ...     0.0   \n",
       "tt0844671  0.0  0.0  0.0  0.0  0.0  0.0  0.0  0.0  0.0  0.0  ...     0.0   \n",
       "tt0472198  0.0  0.0  0.0  0.0  0.0  0.0  0.0  0.0  0.0  0.0  ...     0.0   \n",
       "\n",
       "           162073  162207  162257  162363  162420  162434  162464  162499  \\\n",
       "tt0274309     0.0     0.0     0.0     0.0     0.0     0.0     0.0     0.0   \n",
       "tt0298203     0.0     0.0     0.0     0.0     0.0     0.0     0.0     0.0   \n",
       "tt0315733     0.0     0.0     0.0     0.0     0.0     0.0     0.0     0.0   \n",
       "tt0337563     0.0     0.0     0.0     0.0     0.0     0.0     0.0     0.0   \n",
       "tt0463854     0.0     0.0     0.0     0.0     0.0     0.0     0.0     0.0   \n",
       "...           ...     ...     ...     ...     ...     ...     ...     ...   \n",
       "tt4241904     0.0     0.0     1.0     0.0     0.0     0.0     0.0     0.0   \n",
       "tt1666800     0.0     0.0     4.0     0.0     0.0     0.0     0.0     0.0   \n",
       "tt6806448     0.0     0.0     4.0     0.0     0.0     0.0     0.0     0.0   \n",
       "tt0844671     0.0     0.0     0.0     0.0     0.0     2.0     0.0     0.0   \n",
       "tt0472198     0.0     0.0     0.0     0.0     0.0     3.5     0.0     0.0   \n",
       "\n",
       "           162537  \n",
       "tt0274309     0.0  \n",
       "tt0298203     0.0  \n",
       "tt0315733     0.0  \n",
       "tt0337563     0.0  \n",
       "tt0463854     0.0  \n",
       "...           ...  \n",
       "tt4241904     0.0  \n",
       "tt1666800     0.0  \n",
       "tt6806448     0.0  \n",
       "tt0844671     0.0  \n",
       "tt0472198     0.0  \n",
       "\n",
       "[4465 rows x 2244 columns]"
      ]
     },
     "execution_count": 9,
     "metadata": {},
     "output_type": "execute_result"
    }
   ],
   "source": [
    "df = pd.DataFrame.sparse.from_spmatrix(\n",
    "    matrix_sparse, \n",
    "    index=[u for u in user_ratings],\n",
    "    columns=movie_ids\n",
    ").T\n",
    "df"
   ]
  },
  {
   "cell_type": "code",
   "execution_count": 10,
   "id": "b731b933",
   "metadata": {},
   "outputs": [
    {
     "name": "stdout",
     "output_type": "stream",
     "text": [
      "Movies x Users dimensionality: (4465, 2244)\n"
     ]
    }
   ],
   "source": [
    "print(\"Movies x Users dimensionality:\", df.shape)"
   ]
  },
  {
   "cell_type": "code",
   "execution_count": null,
   "id": "c8e55fbd",
   "metadata": {},
   "outputs": [],
   "source": []
  },
  {
   "cell_type": "code",
   "execution_count": 11,
   "id": "32b74381",
   "metadata": {},
   "outputs": [],
   "source": [
    "from sklearn.cluster import KMeans\n",
    "from numpy.linalg import norm"
   ]
  },
  {
   "cell_type": "code",
   "execution_count": 12,
   "id": "3000fed7",
   "metadata": {},
   "outputs": [],
   "source": [
    "kmeans = KMeans(n_clusters=4, random_state=42).fit(df.T)"
   ]
  },
  {
   "cell_type": "code",
   "execution_count": null,
   "id": "05298451",
   "metadata": {},
   "outputs": [],
   "source": []
  },
  {
   "cell_type": "code",
   "execution_count": 100,
   "id": "cffe0de5",
   "metadata": {},
   "outputs": [],
   "source": [
    "new_df = df.T"
   ]
  },
  {
   "cell_type": "code",
   "execution_count": 102,
   "id": "c5774169",
   "metadata": {},
   "outputs": [],
   "source": [
    "new_df['predicted_cluster'] = list(kmeans.labels_)"
   ]
  },
  {
   "cell_type": "code",
   "execution_count": 103,
   "id": "b0719c92",
   "metadata": {},
   "outputs": [
    {
     "data": {
      "text/plain": [
       "2    1635\n",
       "0     311\n",
       "3     225\n",
       "1      74\n",
       "Name: predicted_cluster, dtype: int64"
      ]
     },
     "execution_count": 103,
     "metadata": {},
     "output_type": "execute_result"
    }
   ],
   "source": [
    "new_df.predicted_cluster.value_counts()"
   ]
  },
  {
   "cell_type": "code",
   "execution_count": 148,
   "id": "b78c4e68",
   "metadata": {},
   "outputs": [
    {
     "data": {
      "text/plain": [
       "True"
      ]
     },
     "execution_count": 148,
     "metadata": {},
     "output_type": "execute_result"
    }
   ],
   "source": [
    "user_series = new_df.loc[\"126\"][:-1]\n",
    "not_watched_series = user_series[user_series.values == 0]\n",
    "\"tt0209144\" in not_watched_series.index"
   ]
  },
  {
   "cell_type": "code",
   "execution_count": 157,
   "id": "38be7aa5",
   "metadata": {},
   "outputs": [],
   "source": [
    "user_series = new_df.loc[\"126\"][:-1]\n",
    "watched_series = user_series[user_series.values > 0]\n",
    "seen_movies = list(watched_series.index)"
   ]
  },
  {
   "cell_type": "code",
   "execution_count": 106,
   "id": "e1a4b7f2",
   "metadata": {},
   "outputs": [],
   "source": [
    "group_2 = new_df[new_df['predicted_cluster'] == 2]#.drop(['126'], inplace=True)"
   ]
  },
  {
   "cell_type": "code",
   "execution_count": 107,
   "id": "23aa5b48",
   "metadata": {},
   "outputs": [
    {
     "name": "stderr",
     "output_type": "stream",
     "text": [
      "C:\\Users\\dhlec\\anaconda3\\envs\\PythonData\\lib\\site-packages\\pandas\\core\\frame.py:4913: SettingWithCopyWarning: \n",
      "A value is trying to be set on a copy of a slice from a DataFrame\n",
      "\n",
      "See the caveats in the documentation: https://pandas.pydata.org/pandas-docs/stable/user_guide/indexing.html#returning-a-view-versus-a-copy\n",
      "  errors=errors,\n"
     ]
    }
   ],
   "source": [
    "group_2.drop(['126'], inplace = True)"
   ]
  },
  {
   "cell_type": "code",
   "execution_count": 115,
   "id": "0d0a99f4",
   "metadata": {},
   "outputs": [
    {
     "name": "stderr",
     "output_type": "stream",
     "text": [
      "C:\\Users\\dhlec\\anaconda3\\envs\\PythonData\\lib\\site-packages\\pandas\\core\\frame.py:4913: SettingWithCopyWarning: \n",
      "A value is trying to be set on a copy of a slice from a DataFrame\n",
      "\n",
      "See the caveats in the documentation: https://pandas.pydata.org/pandas-docs/stable/user_guide/indexing.html#returning-a-view-versus-a-copy\n",
      "  errors=errors,\n"
     ]
    }
   ],
   "source": [
    "group_2.drop(columns = ['predicted_cluster'], inplace = True)"
   ]
  },
  {
   "cell_type": "code",
   "execution_count": 158,
   "id": "e0cdedf5",
   "metadata": {},
   "outputs": [
    {
     "name": "stderr",
     "output_type": "stream",
     "text": [
      "C:\\Users\\dhlec\\anaconda3\\envs\\PythonData\\lib\\site-packages\\pandas\\core\\frame.py:4913: SettingWithCopyWarning: \n",
      "A value is trying to be set on a copy of a slice from a DataFrame\n",
      "\n",
      "See the caveats in the documentation: https://pandas.pydata.org/pandas-docs/stable/user_guide/indexing.html#returning-a-view-versus-a-copy\n",
      "  errors=errors,\n"
     ]
    }
   ],
   "source": [
    "group_2.drop(columns = seen_movies, inplace = True)"
   ]
  },
  {
   "cell_type": "code",
   "execution_count": 161,
   "id": "4fe2ead6",
   "metadata": {},
   "outputs": [
    {
     "data": {
      "text/plain": [
       "tt0209144    1618.0\n",
       "tt0126029    1297.5\n",
       "tt0338013    1169.0\n",
       "tt0198781     953.5\n",
       "tt0266543     926.5\n",
       "tt0910970     893.0\n",
       "tt0120903     863.0\n",
       "tt0266697     850.0\n",
       "tt1049413     776.0\n",
       "tt0246578     774.0\n",
       "tt0162222     764.5\n",
       "tt0372784     740.0\n",
       "tt0190590     723.5\n",
       "tt0181689     718.5\n",
       "tt0240772     708.5\n",
       "tt0816692     688.0\n",
       "tt0378194     686.5\n",
       "tt0181875     676.0\n",
       "tt0208092     670.0\n",
       "tt0264464     637.5\n",
       "dtype: float64"
      ]
     },
     "execution_count": 161,
     "metadata": {},
     "output_type": "execute_result"
    }
   ],
   "source": [
    "group_2[group_2 > 0].sum(axis = 0).sort_values(ascending = False).head(20)#/group_2[group_2 > 0].count(axis = 0).sort_values(ascending = False).head(20)"
   ]
  },
  {
   "cell_type": "code",
   "execution_count": 162,
   "id": "7b922624",
   "metadata": {},
   "outputs": [
    {
     "name": "stdout",
     "output_type": "stream",
     "text": [
      "Memento\n",
      "Shrek\n",
      "Eternal Sunshine of the Spotless Mind\n",
      "Monsters, Inc.\n",
      "X-Men\n",
      "Finding Nemo\n",
      "WALL·E\n",
      "Kill Bill: Vol. 1\n",
      "Cast Away\n",
      "Minority Report\n",
      "Donnie Darko\n",
      "Batman Begins\n",
      "Up\n",
      "Ocean's Eleven\n",
      "O Brother, Where Art Thou?\n",
      "Kill Bill: Vol. 2\n",
      "Almost Famous\n",
      "Spider-Man\n",
      "Erin Brockovich\n",
      "Interstellar\n"
     ]
    }
   ],
   "source": [
    "for i in list(group_2[group_2 > 0].count(axis = 0).sort_values(ascending = False).head(20).index):\n",
    "    print(movie_actor_map[i]['movie'])"
   ]
  },
  {
   "cell_type": "code",
   "execution_count": 132,
   "id": "b8cd8a0d",
   "metadata": {},
   "outputs": [
    {
     "data": {
      "text/plain": [
       "3.5948767900475067"
      ]
     },
     "execution_count": 132,
     "metadata": {},
     "output_type": "execute_result"
    }
   ],
   "source": [
    "group_2[group_2 > 0].sum().sum()/group_2[group_2 > 0].count().sum()"
   ]
  },
  {
   "cell_type": "code",
   "execution_count": 67,
   "id": "51af9720",
   "metadata": {},
   "outputs": [
    {
     "data": {
      "text/plain": [
       "tt4263482    5.0\n",
       "tt1611845    5.0\n",
       "tt0804522    5.0\n",
       "tt1392170    5.0\n",
       "tt0945513    5.0\n",
       "            ... \n",
       "tt3741700    0.0\n",
       "tt0854678    0.0\n",
       "tt3171832    0.0\n",
       "tt3095734    0.0\n",
       "tt1727770    0.0\n",
       "Length: 4466, dtype: float64"
      ]
     },
     "execution_count": 67,
     "metadata": {},
     "output_type": "execute_result"
    }
   ],
   "source": [
    "cluster_series = new_df[new_df['predicted_cluster'] == 2].max().sort_values(ascending = False)\n",
    "A"
   ]
  },
  {
   "cell_type": "code",
   "execution_count": 36,
   "id": "5a857514",
   "metadata": {},
   "outputs": [],
   "source": [
    "group_0 = df[df['predicted_cluster'] == 0][list(df.columns[:-1])]\n",
    "group_1 = df[df['predicted_cluster'] == 1][list(df.columns[:-1])]"
   ]
  },
  {
   "cell_type": "code",
   "execution_count": 64,
   "id": "90d6b35e",
   "metadata": {},
   "outputs": [],
   "source": [
    "cosine = np.dot(A,B)/(norm(A)*norm(B))"
   ]
  },
  {
   "cell_type": "code",
   "execution_count": 65,
   "id": "5cbe9381",
   "metadata": {},
   "outputs": [
    {
     "data": {
      "text/plain": [
       "0.08713217330464067"
      ]
     },
     "execution_count": 65,
     "metadata": {},
     "output_type": "execute_result"
    }
   ],
   "source": [
    "cosine"
   ]
  }
 ],
 "metadata": {
  "kernelspec": {
   "display_name": "Python 3",
   "language": "python",
   "name": "python3"
  },
  "language_info": {
   "codemirror_mode": {
    "name": "ipython",
    "version": 3
   },
   "file_extension": ".py",
   "mimetype": "text/x-python",
   "name": "python",
   "nbconvert_exporter": "python",
   "pygments_lexer": "ipython3",
   "version": "3.8.8"
  }
 },
 "nbformat": 4,
 "nbformat_minor": 5
}
