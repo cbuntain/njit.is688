{
 "cells": [
  {
   "cell_type": "markdown",
   "id": "56fb9ab7",
   "metadata": {},
   "source": [
    "# Evaluationf or User x User Feedback\n",
    "\n",
    "Using the IMDB and MovieLens data, we build a feature matrix that we can use for user-user and item-item recommendation.\n",
    "\n",
    "Here, we construct an User-User based recsys and evaluate it against our baseline."
   ]
  },
  {
   "cell_type": "code",
   "execution_count": 1,
   "id": "a8a8127e",
   "metadata": {},
   "outputs": [],
   "source": [
    "%matplotlib inline"
   ]
  },
  {
   "cell_type": "code",
   "execution_count": 2,
   "id": "0be2c95c",
   "metadata": {},
   "outputs": [],
   "source": [
    "import json\n",
    "import random\n",
    "import pandas as pd\n",
    "import numpy as np\n",
    "\n",
    "import matplotlib.pyplot as plt\n",
    "\n",
    "from collections import Counter\n",
    "\n",
    "from scipy.sparse import lil_matrix\n",
    "from scipy.stats import pearsonr\n",
    "from scipy.stats import spearmanr\n",
    "\n",
    "from sklearn.neighbors import DistanceMetric\n",
    "from sklearn.metrics import mean_squared_error\n",
    "from sklearn.metrics import jaccard_score\n",
    "from sklearn.metrics import pairwise_distances"
   ]
  },
  {
   "cell_type": "code",
   "execution_count": null,
   "id": "32201009",
   "metadata": {},
   "outputs": [],
   "source": []
  },
  {
   "cell_type": "code",
   "execution_count": 3,
   "id": "14fb3d0a",
   "metadata": {},
   "outputs": [],
   "source": [
    "known_movies = set()\n",
    "\n",
    "user_ratings = {} # List of all our movie ratings for specific users\n",
    "movie_ids = []\n",
    "\n",
    "with open(\"../data/user_ratings.json\", \"r\") as in_file:\n",
    "    for line in in_file:\n",
    "        \n",
    "        this_rating = json.loads(line)\n",
    "        \n",
    "        known_movies.add(this_rating[\"title_id\"])\n",
    "        \n",
    "        if this_rating[\"title_id\"] not in movie_ids:\n",
    "            movie_ids.append(this_rating[\"title_id\"])\n",
    "        \n",
    "        this_users_ratings = user_ratings.get(this_rating[\"userId\"], [])\n",
    "        this_users_ratings.append((this_rating[\"title_id\"], this_rating[\"rating\"]))\n",
    "        \n",
    "        user_ratings[this_rating[\"userId\"]] = this_users_ratings\n",
    "        \n",
    "        "
   ]
  },
  {
   "cell_type": "code",
   "execution_count": 4,
   "id": "c0d10f74",
   "metadata": {},
   "outputs": [],
   "source": [
    "movie_id_to_index = {m:i for i,m in enumerate(movie_ids)}"
   ]
  },
  {
   "cell_type": "code",
   "execution_count": 5,
   "id": "0dc50303",
   "metadata": {},
   "outputs": [
    {
     "name": "stdout",
     "output_type": "stream",
     "text": [
      "Known Users: 2244\n",
      "Known Movies: 4465\n"
     ]
    }
   ],
   "source": [
    "print(\"Known Users:\", len(user_ratings))\n",
    "print(\"Known Movies:\", len(known_movies))\n"
   ]
  },
  {
   "cell_type": "code",
   "execution_count": null,
   "id": "0f2932de",
   "metadata": {},
   "outputs": [],
   "source": []
  },
  {
   "cell_type": "code",
   "execution_count": 6,
   "id": "48dc9bf4",
   "metadata": {},
   "outputs": [],
   "source": [
    "actor_id_to_name_map = {}     # Map Actor IDs to actor names\n",
    "actor_id_to_index_map = {}    # Map actor IDs to a unique index of known actors\n",
    "index_to_actor_ids = []       # Array mapping unique index back to actor ID (invert of actor_id_to_index_map)\n",
    "\n",
    "index_counter = 0    # Unique actor index; increment for each new actor\n",
    "known_actors = set()\n",
    "\n",
    "movie_actor_map = {} # List of all our movies and their actors\n",
    "\n",
    "test_count = 0\n",
    "with open(\"../data/imdb_recent_movies.json\", \"r\") as in_file:\n",
    "    for line in in_file:\n",
    "        \n",
    "        this_movie = json.loads(line)\n",
    "        \n",
    "        # Restrict to known movies\n",
    "        if this_movie[\"title_id\"] not in known_movies:\n",
    "            continue\n",
    "            \n",
    "        # Keep track of all the actors in this movie\n",
    "        for actor_id,actor_name in zip(this_movie['actor_ids'],this_movie['actor_names']):\n",
    "            \n",
    "            # Keep names and IDs\n",
    "            actor_id_to_name_map[actor_id] = actor_name\n",
    "            \n",
    "            # If we've seen this actor before, skip...\n",
    "            if actor_id in known_actors:\n",
    "                continue\n",
    "                \n",
    "            # ... Otherwise, add to known actor set and create new index for them\n",
    "            known_actors.add(actor_id)\n",
    "            actor_id_to_index_map[actor_id] = index_counter\n",
    "            index_to_actor_ids.append(actor_id)\n",
    "            index_counter += 1\n",
    "            \n",
    "        # Finished with this film\n",
    "        movie_actor_map[this_movie[\"title_id\"]] = ({\n",
    "            \"movie\": this_movie[\"title_name\"],\n",
    "            \"actors\": set(this_movie['actor_ids']),\n",
    "            \"genres\": this_movie[\"title_genre\"]\n",
    "        })"
   ]
  },
  {
   "cell_type": "code",
   "execution_count": 7,
   "id": "6f78e123",
   "metadata": {},
   "outputs": [
    {
     "name": "stdout",
     "output_type": "stream",
     "text": [
      "Known Actors: 5224\n",
      "Known Movies: 4465\n"
     ]
    }
   ],
   "source": [
    "print(\"Known Actors:\", len(known_actors))\n",
    "print(\"Known Movies:\", len(movie_actor_map))"
   ]
  },
  {
   "cell_type": "code",
   "execution_count": null,
   "id": "856ee68d",
   "metadata": {},
   "outputs": [],
   "source": []
  },
  {
   "cell_type": "markdown",
   "id": "f06c4064",
   "metadata": {},
   "source": [
    "## Generate DataFrame using Sparse Matrics\n",
    "\n",
    "Convert our Movie Ratings data into a DataFrame that we can use for analysis."
   ]
  },
  {
   "cell_type": "code",
   "execution_count": 8,
   "id": "9ba14605",
   "metadata": {},
   "outputs": [],
   "source": [
    "# With sparse matrix, initialize to size of Users x Movies of 0s\n",
    "matrix_sparse = lil_matrix((len(user_ratings), len(known_movies)), dtype=float)\n",
    "\n",
    "# Update the matrix, user by user, setting non-zero values for the appropriate actors\n",
    "for row,this_user in enumerate(user_ratings): \n",
    "    this_user_ratings = user_ratings[this_user]\n",
    "    \n",
    "    for movie_id,rating in this_user_ratings:\n",
    "        this_movie_index = movie_id_to_index[movie_id]\n",
    "        matrix_sparse[row,this_movie_index] = rating"
   ]
  },
  {
   "cell_type": "code",
   "execution_count": 9,
   "id": "4b200dac",
   "metadata": {},
   "outputs": [
    {
     "data": {
      "text/html": [
       "<div>\n",
       "<style scoped>\n",
       "    .dataframe tbody tr th:only-of-type {\n",
       "        vertical-align: middle;\n",
       "    }\n",
       "\n",
       "    .dataframe tbody tr th {\n",
       "        vertical-align: top;\n",
       "    }\n",
       "\n",
       "    .dataframe thead th {\n",
       "        text-align: right;\n",
       "    }\n",
       "</style>\n",
       "<table border=\"1\" class=\"dataframe\">\n",
       "  <thead>\n",
       "    <tr style=\"text-align: right;\">\n",
       "      <th></th>\n",
       "      <th>10</th>\n",
       "      <th>37</th>\n",
       "      <th>51</th>\n",
       "      <th>126</th>\n",
       "      <th>152</th>\n",
       "      <th>263</th>\n",
       "      <th>284</th>\n",
       "      <th>448</th>\n",
       "      <th>626</th>\n",
       "      <th>706</th>\n",
       "      <th>...</th>\n",
       "      <th>162002</th>\n",
       "      <th>162073</th>\n",
       "      <th>162207</th>\n",
       "      <th>162257</th>\n",
       "      <th>162363</th>\n",
       "      <th>162420</th>\n",
       "      <th>162434</th>\n",
       "      <th>162464</th>\n",
       "      <th>162499</th>\n",
       "      <th>162537</th>\n",
       "    </tr>\n",
       "  </thead>\n",
       "  <tbody>\n",
       "    <tr>\n",
       "      <th>tt0274309</th>\n",
       "      <td>3.0</td>\n",
       "      <td>0.0</td>\n",
       "      <td>0.0</td>\n",
       "      <td>0.0</td>\n",
       "      <td>0.0</td>\n",
       "      <td>0.0</td>\n",
       "      <td>0.0</td>\n",
       "      <td>0.0</td>\n",
       "      <td>0.0</td>\n",
       "      <td>0.0</td>\n",
       "      <td>...</td>\n",
       "      <td>0.0</td>\n",
       "      <td>0.0</td>\n",
       "      <td>0.0</td>\n",
       "      <td>0.0</td>\n",
       "      <td>0.0</td>\n",
       "      <td>0.0</td>\n",
       "      <td>0.0</td>\n",
       "      <td>0.0</td>\n",
       "      <td>0.0</td>\n",
       "      <td>0.0</td>\n",
       "    </tr>\n",
       "    <tr>\n",
       "      <th>tt0298203</th>\n",
       "      <td>2.5</td>\n",
       "      <td>0.0</td>\n",
       "      <td>0.0</td>\n",
       "      <td>0.0</td>\n",
       "      <td>0.0</td>\n",
       "      <td>0.0</td>\n",
       "      <td>0.0</td>\n",
       "      <td>0.0</td>\n",
       "      <td>0.0</td>\n",
       "      <td>0.0</td>\n",
       "      <td>...</td>\n",
       "      <td>0.0</td>\n",
       "      <td>0.0</td>\n",
       "      <td>0.0</td>\n",
       "      <td>0.0</td>\n",
       "      <td>0.0</td>\n",
       "      <td>0.0</td>\n",
       "      <td>0.0</td>\n",
       "      <td>0.0</td>\n",
       "      <td>0.0</td>\n",
       "      <td>0.0</td>\n",
       "    </tr>\n",
       "    <tr>\n",
       "      <th>tt0315733</th>\n",
       "      <td>3.0</td>\n",
       "      <td>0.0</td>\n",
       "      <td>0.0</td>\n",
       "      <td>0.0</td>\n",
       "      <td>0.0</td>\n",
       "      <td>0.0</td>\n",
       "      <td>0.0</td>\n",
       "      <td>0.0</td>\n",
       "      <td>0.0</td>\n",
       "      <td>0.0</td>\n",
       "      <td>...</td>\n",
       "      <td>0.0</td>\n",
       "      <td>0.0</td>\n",
       "      <td>0.0</td>\n",
       "      <td>0.0</td>\n",
       "      <td>0.0</td>\n",
       "      <td>0.0</td>\n",
       "      <td>0.0</td>\n",
       "      <td>0.0</td>\n",
       "      <td>0.0</td>\n",
       "      <td>0.0</td>\n",
       "    </tr>\n",
       "    <tr>\n",
       "      <th>tt0337563</th>\n",
       "      <td>1.0</td>\n",
       "      <td>0.0</td>\n",
       "      <td>0.0</td>\n",
       "      <td>0.0</td>\n",
       "      <td>0.0</td>\n",
       "      <td>0.0</td>\n",
       "      <td>0.5</td>\n",
       "      <td>0.0</td>\n",
       "      <td>4.0</td>\n",
       "      <td>0.0</td>\n",
       "      <td>...</td>\n",
       "      <td>0.0</td>\n",
       "      <td>0.0</td>\n",
       "      <td>0.0</td>\n",
       "      <td>0.0</td>\n",
       "      <td>0.0</td>\n",
       "      <td>0.0</td>\n",
       "      <td>0.0</td>\n",
       "      <td>0.0</td>\n",
       "      <td>0.0</td>\n",
       "      <td>0.0</td>\n",
       "    </tr>\n",
       "    <tr>\n",
       "      <th>tt0463854</th>\n",
       "      <td>4.0</td>\n",
       "      <td>0.0</td>\n",
       "      <td>0.0</td>\n",
       "      <td>0.0</td>\n",
       "      <td>0.0</td>\n",
       "      <td>0.0</td>\n",
       "      <td>3.0</td>\n",
       "      <td>0.0</td>\n",
       "      <td>0.0</td>\n",
       "      <td>0.0</td>\n",
       "      <td>...</td>\n",
       "      <td>0.0</td>\n",
       "      <td>0.0</td>\n",
       "      <td>0.0</td>\n",
       "      <td>0.0</td>\n",
       "      <td>0.0</td>\n",
       "      <td>0.0</td>\n",
       "      <td>0.0</td>\n",
       "      <td>0.0</td>\n",
       "      <td>0.0</td>\n",
       "      <td>0.0</td>\n",
       "    </tr>\n",
       "    <tr>\n",
       "      <th>...</th>\n",
       "      <td>...</td>\n",
       "      <td>...</td>\n",
       "      <td>...</td>\n",
       "      <td>...</td>\n",
       "      <td>...</td>\n",
       "      <td>...</td>\n",
       "      <td>...</td>\n",
       "      <td>...</td>\n",
       "      <td>...</td>\n",
       "      <td>...</td>\n",
       "      <td>...</td>\n",
       "      <td>...</td>\n",
       "      <td>...</td>\n",
       "      <td>...</td>\n",
       "      <td>...</td>\n",
       "      <td>...</td>\n",
       "      <td>...</td>\n",
       "      <td>...</td>\n",
       "      <td>...</td>\n",
       "      <td>...</td>\n",
       "      <td>...</td>\n",
       "    </tr>\n",
       "    <tr>\n",
       "      <th>tt4241904</th>\n",
       "      <td>0.0</td>\n",
       "      <td>0.0</td>\n",
       "      <td>0.0</td>\n",
       "      <td>0.0</td>\n",
       "      <td>0.0</td>\n",
       "      <td>0.0</td>\n",
       "      <td>0.0</td>\n",
       "      <td>0.0</td>\n",
       "      <td>0.0</td>\n",
       "      <td>0.0</td>\n",
       "      <td>...</td>\n",
       "      <td>0.0</td>\n",
       "      <td>0.0</td>\n",
       "      <td>0.0</td>\n",
       "      <td>1.0</td>\n",
       "      <td>0.0</td>\n",
       "      <td>0.0</td>\n",
       "      <td>0.0</td>\n",
       "      <td>0.0</td>\n",
       "      <td>0.0</td>\n",
       "      <td>0.0</td>\n",
       "    </tr>\n",
       "    <tr>\n",
       "      <th>tt1666800</th>\n",
       "      <td>0.0</td>\n",
       "      <td>0.0</td>\n",
       "      <td>0.0</td>\n",
       "      <td>0.0</td>\n",
       "      <td>0.0</td>\n",
       "      <td>0.0</td>\n",
       "      <td>0.0</td>\n",
       "      <td>0.0</td>\n",
       "      <td>0.0</td>\n",
       "      <td>0.0</td>\n",
       "      <td>...</td>\n",
       "      <td>0.0</td>\n",
       "      <td>0.0</td>\n",
       "      <td>0.0</td>\n",
       "      <td>4.0</td>\n",
       "      <td>0.0</td>\n",
       "      <td>0.0</td>\n",
       "      <td>0.0</td>\n",
       "      <td>0.0</td>\n",
       "      <td>0.0</td>\n",
       "      <td>0.0</td>\n",
       "    </tr>\n",
       "    <tr>\n",
       "      <th>tt6806448</th>\n",
       "      <td>0.0</td>\n",
       "      <td>0.0</td>\n",
       "      <td>0.0</td>\n",
       "      <td>0.0</td>\n",
       "      <td>0.0</td>\n",
       "      <td>0.0</td>\n",
       "      <td>0.0</td>\n",
       "      <td>0.0</td>\n",
       "      <td>0.0</td>\n",
       "      <td>0.0</td>\n",
       "      <td>...</td>\n",
       "      <td>0.0</td>\n",
       "      <td>0.0</td>\n",
       "      <td>0.0</td>\n",
       "      <td>4.0</td>\n",
       "      <td>0.0</td>\n",
       "      <td>0.0</td>\n",
       "      <td>0.0</td>\n",
       "      <td>0.0</td>\n",
       "      <td>0.0</td>\n",
       "      <td>0.0</td>\n",
       "    </tr>\n",
       "    <tr>\n",
       "      <th>tt0844671</th>\n",
       "      <td>0.0</td>\n",
       "      <td>0.0</td>\n",
       "      <td>0.0</td>\n",
       "      <td>0.0</td>\n",
       "      <td>0.0</td>\n",
       "      <td>0.0</td>\n",
       "      <td>0.0</td>\n",
       "      <td>0.0</td>\n",
       "      <td>0.0</td>\n",
       "      <td>0.0</td>\n",
       "      <td>...</td>\n",
       "      <td>0.0</td>\n",
       "      <td>0.0</td>\n",
       "      <td>0.0</td>\n",
       "      <td>0.0</td>\n",
       "      <td>0.0</td>\n",
       "      <td>0.0</td>\n",
       "      <td>2.0</td>\n",
       "      <td>0.0</td>\n",
       "      <td>0.0</td>\n",
       "      <td>0.0</td>\n",
       "    </tr>\n",
       "    <tr>\n",
       "      <th>tt0472198</th>\n",
       "      <td>0.0</td>\n",
       "      <td>0.0</td>\n",
       "      <td>0.0</td>\n",
       "      <td>0.0</td>\n",
       "      <td>0.0</td>\n",
       "      <td>0.0</td>\n",
       "      <td>0.0</td>\n",
       "      <td>0.0</td>\n",
       "      <td>0.0</td>\n",
       "      <td>0.0</td>\n",
       "      <td>...</td>\n",
       "      <td>0.0</td>\n",
       "      <td>0.0</td>\n",
       "      <td>0.0</td>\n",
       "      <td>0.0</td>\n",
       "      <td>0.0</td>\n",
       "      <td>0.0</td>\n",
       "      <td>3.5</td>\n",
       "      <td>0.0</td>\n",
       "      <td>0.0</td>\n",
       "      <td>0.0</td>\n",
       "    </tr>\n",
       "  </tbody>\n",
       "</table>\n",
       "<p>4465 rows × 2244 columns</p>\n",
       "</div>"
      ],
      "text/plain": [
       "            10   37   51  126  152  263  284  448  626  706  ...  162002  \\\n",
       "tt0274309  3.0  0.0  0.0  0.0  0.0  0.0  0.0  0.0  0.0  0.0  ...     0.0   \n",
       "tt0298203  2.5  0.0  0.0  0.0  0.0  0.0  0.0  0.0  0.0  0.0  ...     0.0   \n",
       "tt0315733  3.0  0.0  0.0  0.0  0.0  0.0  0.0  0.0  0.0  0.0  ...     0.0   \n",
       "tt0337563  1.0  0.0  0.0  0.0  0.0  0.0  0.5  0.0  4.0  0.0  ...     0.0   \n",
       "tt0463854  4.0  0.0  0.0  0.0  0.0  0.0  3.0  0.0  0.0  0.0  ...     0.0   \n",
       "...        ...  ...  ...  ...  ...  ...  ...  ...  ...  ...  ...     ...   \n",
       "tt4241904  0.0  0.0  0.0  0.0  0.0  0.0  0.0  0.0  0.0  0.0  ...     0.0   \n",
       "tt1666800  0.0  0.0  0.0  0.0  0.0  0.0  0.0  0.0  0.0  0.0  ...     0.0   \n",
       "tt6806448  0.0  0.0  0.0  0.0  0.0  0.0  0.0  0.0  0.0  0.0  ...     0.0   \n",
       "tt0844671  0.0  0.0  0.0  0.0  0.0  0.0  0.0  0.0  0.0  0.0  ...     0.0   \n",
       "tt0472198  0.0  0.0  0.0  0.0  0.0  0.0  0.0  0.0  0.0  0.0  ...     0.0   \n",
       "\n",
       "           162073  162207  162257  162363  162420  162434  162464  162499  \\\n",
       "tt0274309     0.0     0.0     0.0     0.0     0.0     0.0     0.0     0.0   \n",
       "tt0298203     0.0     0.0     0.0     0.0     0.0     0.0     0.0     0.0   \n",
       "tt0315733     0.0     0.0     0.0     0.0     0.0     0.0     0.0     0.0   \n",
       "tt0337563     0.0     0.0     0.0     0.0     0.0     0.0     0.0     0.0   \n",
       "tt0463854     0.0     0.0     0.0     0.0     0.0     0.0     0.0     0.0   \n",
       "...           ...     ...     ...     ...     ...     ...     ...     ...   \n",
       "tt4241904     0.0     0.0     1.0     0.0     0.0     0.0     0.0     0.0   \n",
       "tt1666800     0.0     0.0     4.0     0.0     0.0     0.0     0.0     0.0   \n",
       "tt6806448     0.0     0.0     4.0     0.0     0.0     0.0     0.0     0.0   \n",
       "tt0844671     0.0     0.0     0.0     0.0     0.0     2.0     0.0     0.0   \n",
       "tt0472198     0.0     0.0     0.0     0.0     0.0     3.5     0.0     0.0   \n",
       "\n",
       "           162537  \n",
       "tt0274309     0.0  \n",
       "tt0298203     0.0  \n",
       "tt0315733     0.0  \n",
       "tt0337563     0.0  \n",
       "tt0463854     0.0  \n",
       "...           ...  \n",
       "tt4241904     0.0  \n",
       "tt1666800     0.0  \n",
       "tt6806448     0.0  \n",
       "tt0844671     0.0  \n",
       "tt0472198     0.0  \n",
       "\n",
       "[4465 rows x 2244 columns]"
      ]
     },
     "execution_count": 9,
     "metadata": {},
     "output_type": "execute_result"
    }
   ],
   "source": [
    "df = pd.DataFrame.sparse.from_spmatrix(\n",
    "    matrix_sparse, \n",
    "    index=[u for u in user_ratings],\n",
    "    columns=movie_ids\n",
    ").T\n",
    "df"
   ]
  },
  {
   "cell_type": "code",
   "execution_count": 10,
   "id": "41a5a1e7",
   "metadata": {},
   "outputs": [
    {
     "name": "stdout",
     "output_type": "stream",
     "text": [
      "Movies x Users dimensionality: (4465, 2244)\n"
     ]
    }
   ],
   "source": [
    "print(\"Movies x Users dimensionality:\", df.shape)"
   ]
  },
  {
   "cell_type": "code",
   "execution_count": null,
   "id": "a4817772",
   "metadata": {},
   "outputs": [],
   "source": []
  },
  {
   "cell_type": "markdown",
   "id": "c48149dc",
   "metadata": {},
   "source": [
    "## Hold Out Data for Evaluation\n",
    "\n",
    "We want to extract a set of test users on which we can evaluate our recsys. For each test user, we need to split their behavior into a seen set that we can use for recommendation and an unseen set we can use for evaluation."
   ]
  },
  {
   "cell_type": "code",
   "execution_count": 11,
   "id": "37934358",
   "metadata": {},
   "outputs": [],
   "source": [
    "user_by_movie_df = df.T"
   ]
  },
  {
   "cell_type": "code",
   "execution_count": 12,
   "id": "7e9f7fcf",
   "metadata": {},
   "outputs": [
    {
     "data": {
      "text/plain": [
       "array(['90141', '45450', '82463', '109791', '36559', '6877', '130526',\n",
       "       '35082', '78135', '65628', '98222', '49531', '42369', '33565',\n",
       "       '107331', '83897', '4378', '12198', '119561', '121928', '17667',\n",
       "       '154738', '26309', '36959', '48019', '66431', '97011', '138778',\n",
       "       '19023', '143461', '87529', '119146', '101503', '1884', '110327',\n",
       "       '73417', '20692', '61616', '43842', '4848', '22754', '72909',\n",
       "       '37766', '13804', '112088', '142616', '50171', '88630', '107026',\n",
       "       '162464', '148122', '42369', '73463', '3085', '61557', '144562',\n",
       "       '84580', '83618', '149319', '67032', '30384', '34103', '108295',\n",
       "       '82824', '27916', '122209', '150681', '83897', '40408', '37746',\n",
       "       '135316', '115974', '43239', '42433', '23802', '46207', '49710',\n",
       "       '2773', '108340', '77694', '123840', '157211', '123462', '148858',\n",
       "       '140675', '100176', '57878', '41243', '31709', '42145', '17632',\n",
       "       '161805', '10022', '97923', '33969', '67999', '77841', '33047',\n",
       "       '125483', '130857'], dtype=object)"
      ]
     },
     "execution_count": 12,
     "metadata": {},
     "output_type": "execute_result"
    }
   ],
   "source": [
    "held_out_users = np.random.choice(user_by_movie_df.index, size=100)\n",
    "held_out_users"
   ]
  },
  {
   "cell_type": "code",
   "execution_count": 13,
   "id": "671372ae",
   "metadata": {},
   "outputs": [],
   "source": [
    "held_out_movies = np.random.choice(user_by_movie_df.columns, size=100)"
   ]
  },
  {
   "cell_type": "code",
   "execution_count": null,
   "id": "4d013d31",
   "metadata": {},
   "outputs": [],
   "source": []
  },
  {
   "cell_type": "code",
   "execution_count": 14,
   "id": "d09b8209",
   "metadata": {},
   "outputs": [],
   "source": [
    "# This new DataFrame has zeros where ratings used to be\n",
    "training_df = user_by_movie_df.sparse.to_dense()\n",
    "for test_user in held_out_users:\n",
    "    for test_movie in held_out_movies:\n",
    "        training_df.loc[test_user][test_movie] = 0.0"
   ]
  },
  {
   "cell_type": "code",
   "execution_count": null,
   "id": "452382df",
   "metadata": {},
   "outputs": [],
   "source": []
  },
  {
   "cell_type": "markdown",
   "id": "96f1746b",
   "metadata": {},
   "source": [
    "### Baseline Recs using Most Popular Movies\n",
    "\n",
    "As a baseline, let's rank movies by their global popularity"
   ]
  },
  {
   "cell_type": "code",
   "execution_count": 15,
   "id": "932201c6",
   "metadata": {},
   "outputs": [],
   "source": [
    "# Let's make a dataframe of just the training users, so we can evaluate\n",
    "held_in_users_df = training_df.loc[[u for u in training_df.index if u not in held_out_users]]"
   ]
  },
  {
   "cell_type": "code",
   "execution_count": 16,
   "id": "1f650808",
   "metadata": {},
   "outputs": [
    {
     "name": "stdout",
     "output_type": "stream",
     "text": [
      "tt0209144 Memento 5.0\n",
      "tt0172495 Gladiator 4.895211994196357\n",
      "tt1375666 Inception 4.769466387231985\n",
      "tt0126029 Shrek 4.492181202643882\n",
      "tt0338013 Eternal Sunshine of the Spotless Mind 4.130259551829759\n",
      "tt0266543 Finding Nemo 3.950507818797356\n",
      "tt0198781 Monsters, Inc. 3.825568273416089\n",
      "tt0266697 Kill Bill: Vol. 1 3.761889408350798\n",
      "tt0910970 WALL·E 3.3596646783814283\n",
      "tt0372784 Batman Begins 3.3419313235531196\n",
      "tt0240772 Ocean's Eleven 3.2919555054006127\n",
      "tt0378194 Kill Bill: Vol. 2 3.2476221183298404\n",
      "tt0120903 X-Men 3.1275189424472027\n",
      "tt0246578 Donnie Darko 3.1242946961147835\n",
      "tt0181689 Minority Report 3.0920522327905853\n",
      "tt0264464 Catch Me If You Can 3.023536998226665\n",
      "tt1049413 Up 3.0049975818152506\n",
      "tt0145487 Spider-Man 2.8800580364339834\n",
      "tt0162222 Cast Away 2.847009511526681\n",
      "tt0361748 Inglourious Basterds 2.763985168466871\n"
     ]
    }
   ],
   "source": [
    "agg_movie_ratings_ = held_in_users_df.sum(axis=0)\n",
    "agg_movie_ratings = 5 * (agg_movie_ratings_ / agg_movie_ratings_.max())\n",
    "\n",
    "for movie_id,sum_rating in agg_movie_ratings.sort_values(ascending=False).head(20).items():\n",
    "    print(movie_id, movie_actor_map[movie_id][\"movie\"], sum_rating)"
   ]
  },
  {
   "cell_type": "code",
   "execution_count": null,
   "id": "bc3d496d",
   "metadata": {},
   "outputs": [],
   "source": []
  },
  {
   "cell_type": "markdown",
   "id": "d123d759",
   "metadata": {},
   "source": [
    "## Function for Generating Recommendations based on User Similarity"
   ]
  },
  {
   "cell_type": "code",
   "execution_count": 57,
   "id": "5f0c06f2",
   "metadata": {},
   "outputs": [],
   "source": [
    "def recs_for_user(query_user, local_df, top_k=5, threshold=0.33, centering=False):\n",
    "\n",
    "    # use centered matrix if needed\n",
    "    user_rating_centered_df = local_df\n",
    "    \n",
    "    if centering:\n",
    "        # center user ratings\n",
    "        centers = local_df.apply(lambda row: np.mean([x for x in row if x > 0]), axis=1)\n",
    "        centers_map = {uid:c for uid,c in centers.items()}\n",
    "        user_rating_centered_df = pd.DataFrame([[v-centers_map[uid] if v > 0 else 0 for v in row] for uid,row in local_df.iterrows()])\n",
    "        user_rating_centered_df.index = local_df.index\n",
    "        user_rating_centered_df.columns = local_df.columns    \n",
    "    \n",
    "    # Find movies this query user has ranked\n",
    "    query_ranked_movies = local_df.columns[local_df.loc[query_user] > 0]\n",
    "\n",
    "    # Find just the user's ratings and calc pairwise distances between that rating and all others\n",
    "    user_distances = pairwise_distances([user_rating_centered_df.loc[query_user]], user_rating_centered_df, metric=\"cosine\")\n",
    "\n",
    "    # Convert to similarity rather than distance and apply threshold\n",
    "    user_sims = 1-user_distances\n",
    "    user_sims = [s if s > threshold else 0.0 for s in user_sims[0,:]]\n",
    "\n",
    "    # Create a new DF of users based on similarity to the query user\n",
    "    user_user_sim_df = pd.DataFrame(user_sims, index=user_rating_centered_df.index, columns=[\"similarity\"])\n",
    "\n",
    "    # Find the top-k most similar users \n",
    "    relevant_users_df = user_user_sim_df.sort_values(by=\"similarity\").tail(top_k + 1)\n",
    "\n",
    "    # Create a map of user IDs to similarity, since we use that later for re-weighting ratings\n",
    "    relevant_users_sims = {uid:row[\"similarity\"] for uid,row in relevant_users_df.iterrows()}\n",
    "\n",
    "    # We only care about rating movies that the user has NOT seen\n",
    "    query_unranked_movies = user_rating_centered_df.columns[user_rating_centered_df.loc[query_user] == 0]\n",
    "\n",
    "    # Get the IDs for the top-k similar users, excluding the query user, who will always have a high sim score\n",
    "    sim_user_index = [u for u in relevant_users_df.index if u != query_user]\n",
    "    unseen_sim_user_rankings_df = local_df[query_unranked_movies].loc[sim_user_index]\n",
    "\n",
    "    # List for storing our predicted ratings\n",
    "    inferred_movie_ratings = []\n",
    "\n",
    "    # Transpose the similar-user X movies DF, and iterate through each movie...\n",
    "    for movie_id,ratings in unseen_sim_user_rankings_df.T.iterrows():\n",
    "\n",
    "        # If no similar user has rated any movie here, skip this movie\n",
    "        non_zero_ratings = ratings[ratings > 0]\n",
    "        if non_zero_ratings.shape[0] < 1:\n",
    "            inferred_movie_ratings.append((movie_id, 0.0))\n",
    "            continue\n",
    "        \n",
    "        # If all users have zero similarity, skip\n",
    "        if sum([relevant_users_sims[this_user_id] for this_user_id,_ in non_zero_ratings.items()]) == 0:\n",
    "            inferred_movie_ratings.append((movie_id, 0.0))\n",
    "            continue\n",
    "\n",
    "        # Weight the ratings for this movie based on the relevant users and their similarities\n",
    "        this_summed_score = sum([\n",
    "            relevant_users_sims[this_user_id] * this_rating  for this_user_id,this_rating in non_zero_ratings.items()\n",
    "        ])    \n",
    "\n",
    "        # Normalize based on user similarity\n",
    "        this_summed_sim = sum([relevant_users_sims[this_user_id] for this_user_id,this_rating in non_zero_ratings.items()])\n",
    "        \n",
    "        # Calculate inferred score\n",
    "        inferred_rating = this_summed_score / this_summed_sim    \n",
    "        inferred_movie_ratings.append((movie_id, inferred_rating))\n",
    "\n",
    "    inferred_ratings = pd.Series([r for m,r in inferred_movie_ratings])\n",
    "    inferred_ratings.index = [m for m,r in inferred_movie_ratings]\n",
    "    \n",
    "    return inferred_ratings\n"
   ]
  },
  {
   "cell_type": "code",
   "execution_count": 58,
   "id": "fa036911",
   "metadata": {},
   "outputs": [
    {
     "data": {
      "text/plain": [
       "0.035326086956521736"
      ]
     },
     "execution_count": 58,
     "metadata": {},
     "output_type": "execute_result"
    }
   ],
   "source": [
    "recs_for_user(\"90141\", training_df, top_k=5, threshold=0.5, centering=False).sort_values(ascending=False).mean()"
   ]
  },
  {
   "cell_type": "markdown",
   "id": "a734198b",
   "metadata": {},
   "source": [
    "### Evaluate This Baseline on the Held-Out Users"
   ]
  },
  {
   "cell_type": "code",
   "execution_count": 59,
   "id": "5fb60f1f",
   "metadata": {},
   "outputs": [],
   "source": [
    "# For Precision@k, set k to a reasonably low value\n",
    "#. It's low because we don't want to provide many recommendations\n",
    "top_k = 3"
   ]
  },
  {
   "cell_type": "code",
   "execution_count": 60,
   "id": "5086dd10",
   "metadata": {},
   "outputs": [
    {
     "name": "stdout",
     "output_type": "stream",
     "text": [
      "Skipping user with no ratings in held-out set: 45450\n",
      "Skipping user with no ratings in held-out set: 36559\n",
      "Skipping user with no ratings in held-out set: 6877\n",
      "Skipping user with no ratings in held-out set: 130526\n",
      "Skipping user with no ratings in held-out set: 35082\n",
      "Skipping user with no ratings in held-out set: 78135\n",
      "Skipping user with no ratings in held-out set: 98222\n",
      "Skipping user with no ratings in held-out set: 107331\n",
      "Skipping user with no ratings in held-out set: 83897\n",
      "Skipping user with no ratings in held-out set: 4378\n",
      "Skipping user with no ratings in held-out set: 12198\n",
      "Skipping user with no ratings in held-out set: 17667\n",
      "Skipping user with no ratings in held-out set: 66431\n",
      "Skipping user with no ratings in held-out set: 97011\n",
      "Skipping user with no ratings in held-out set: 19023\n",
      "Skipping user with no ratings in held-out set: 1884\n",
      "Skipping user with no ratings in held-out set: 61616\n",
      "Skipping user with no ratings in held-out set: 142616\n",
      "Skipping user with no ratings in held-out set: 88630\n",
      "Skipping user with no ratings in held-out set: 3085\n",
      "Skipping user with no ratings in held-out set: 84580\n",
      "Skipping user with no ratings in held-out set: 67032\n",
      "Skipping user with no ratings in held-out set: 83897\n",
      "Skipping user with no ratings in held-out set: 40408\n",
      "Skipping user with no ratings in held-out set: 37746\n",
      "Skipping user with no ratings in held-out set: 135316\n",
      "Skipping user with no ratings in held-out set: 23802\n",
      "Skipping user with no ratings in held-out set: 49710\n",
      "Skipping user with no ratings in held-out set: 2773\n",
      "Skipping user with no ratings in held-out set: 77694\n",
      "Skipping user with no ratings in held-out set: 123840\n",
      "Skipping user with no ratings in held-out set: 157211\n",
      "Skipping user with no ratings in held-out set: 140675\n",
      "Skipping user with no ratings in held-out set: 100176\n",
      "Skipping user with no ratings in held-out set: 57878\n",
      "Skipping user with no ratings in held-out set: 31709\n",
      "Skipping user with no ratings in held-out set: 42145\n",
      "Skipping user with no ratings in held-out set: 17632\n",
      "Skipping user with no ratings in held-out set: 161805\n",
      "Skipping user with no ratings in held-out set: 67999\n",
      "Skipping user with no ratings in held-out set: 77841\n",
      "Skipping user with no ratings in held-out set: 33047\n",
      "Skipping user with no ratings in held-out set: 130857\n"
     ]
    }
   ],
   "source": [
    "base_metrics = []\n",
    "\n",
    "for u in held_out_users:\n",
    "\n",
    "    this_held_out_movies = user_by_movie_df.loc[u][held_out_movies]\n",
    "    if sum(this_held_out_movies) == 0:\n",
    "        print(\"Skipping user with no ratings in held-out set:\", u)\n",
    "        continue\n",
    "\n",
    "    # Calculate mean squared error\n",
    "    mse = mean_squared_error(this_held_out_movies, agg_movie_ratings[held_out_movies])\n",
    "    \n",
    "    # Pearson correlation for rankings\n",
    "    corr_p = pearsonr(this_held_out_movies, agg_movie_ratings[held_out_movies])[0]\n",
    "    \n",
    "    # Spearman correlation for *rankings* rather than overall ratings\n",
    "    corr_s = spearmanr(this_held_out_movies, agg_movie_ratings[held_out_movies]).correlation\n",
    "    \n",
    "    # Top k rankings, i.e., what's the similarity between the top-k for this user and all the dataset?\n",
    "    this_top_k = set(this_held_out_movies.sort_values(ascending=False).head(top_k).keys())\n",
    "    global_top_k = set(agg_movie_ratings[held_out_movies].sort_values(ascending=False).head(top_k).keys())\n",
    "\n",
    "    # What's the Precision between this user's top-k and global top-k?\n",
    "    precision_at_k = len(this_top_k.intersection(global_top_k)) / len(this_top_k)\n",
    "    \n",
    "    base_metrics.append({\n",
    "        \"mse\": mse,\n",
    "        \"pearson\": corr_p,\n",
    "        \"spearman\": corr_s,\n",
    "        \"pr@k\": precision_at_k,\n",
    "    })\n",
    "    "
   ]
  },
  {
   "cell_type": "code",
   "execution_count": 61,
   "id": "1fae5910",
   "metadata": {},
   "outputs": [
    {
     "data": {
      "text/plain": [
       "mse         0.334034\n",
       "pearson     0.595532\n",
       "spearman    0.222032\n",
       "pr@k        0.374269\n",
       "dtype: float64"
      ]
     },
     "execution_count": 61,
     "metadata": {},
     "output_type": "execute_result"
    }
   ],
   "source": [
    "base_metrics_df = pd.DataFrame(base_metrics)\n",
    "base_metrics_df.mean()"
   ]
  },
  {
   "cell_type": "code",
   "execution_count": null,
   "id": "be387548",
   "metadata": {},
   "outputs": [],
   "source": []
  },
  {
   "cell_type": "code",
   "execution_count": 71,
   "id": "acfd0d78",
   "metadata": {
    "scrolled": true
   },
   "outputs": [
    {
     "name": "stdout",
     "output_type": "stream",
     "text": [
      "Skipping user with no ratings in held-out set: 45450\n"
     ]
    },
    {
     "name": "stderr",
     "output_type": "stream",
     "text": [
      "/Users/cbuntain/Development/anaconda3/lib/python3.8/site-packages/scipy/stats/stats.py:3913: PearsonRConstantInputWarning: An input array is constant; the correlation coefficent is not defined.\n",
      "  warnings.warn(PearsonRConstantInputWarning())\n",
      "/Users/cbuntain/Development/anaconda3/lib/python3.8/site-packages/scipy/stats/stats.py:4264: SpearmanRConstantInputWarning: An input array is constant; the correlation coefficent is not defined.\n",
      "  warnings.warn(SpearmanRConstantInputWarning())\n"
     ]
    },
    {
     "name": "stdout",
     "output_type": "stream",
     "text": [
      "Skipping user with no ratings in held-out set: 36559\n",
      "Skipping user with no ratings in held-out set: 6877\n",
      "Skipping user with no ratings in held-out set: 130526\n",
      "Skipping user with no ratings in held-out set: 35082\n",
      "Skipping user with no ratings in held-out set: 78135\n"
     ]
    },
    {
     "name": "stderr",
     "output_type": "stream",
     "text": [
      "/Users/cbuntain/Development/anaconda3/lib/python3.8/site-packages/scipy/stats/stats.py:3913: PearsonRConstantInputWarning: An input array is constant; the correlation coefficent is not defined.\n",
      "  warnings.warn(PearsonRConstantInputWarning())\n",
      "/Users/cbuntain/Development/anaconda3/lib/python3.8/site-packages/scipy/stats/stats.py:4264: SpearmanRConstantInputWarning: An input array is constant; the correlation coefficent is not defined.\n",
      "  warnings.warn(SpearmanRConstantInputWarning())\n"
     ]
    },
    {
     "name": "stdout",
     "output_type": "stream",
     "text": [
      "Skipping user with no ratings in held-out set: 98222\n"
     ]
    },
    {
     "name": "stderr",
     "output_type": "stream",
     "text": [
      "/Users/cbuntain/Development/anaconda3/lib/python3.8/site-packages/scipy/stats/stats.py:3913: PearsonRConstantInputWarning: An input array is constant; the correlation coefficent is not defined.\n",
      "  warnings.warn(PearsonRConstantInputWarning())\n",
      "/Users/cbuntain/Development/anaconda3/lib/python3.8/site-packages/scipy/stats/stats.py:4264: SpearmanRConstantInputWarning: An input array is constant; the correlation coefficent is not defined.\n",
      "  warnings.warn(SpearmanRConstantInputWarning())\n",
      "/Users/cbuntain/Development/anaconda3/lib/python3.8/site-packages/scipy/stats/stats.py:3913: PearsonRConstantInputWarning: An input array is constant; the correlation coefficent is not defined.\n",
      "  warnings.warn(PearsonRConstantInputWarning())\n",
      "/Users/cbuntain/Development/anaconda3/lib/python3.8/site-packages/scipy/stats/stats.py:4264: SpearmanRConstantInputWarning: An input array is constant; the correlation coefficent is not defined.\n",
      "  warnings.warn(SpearmanRConstantInputWarning())\n",
      "/Users/cbuntain/Development/anaconda3/lib/python3.8/site-packages/scipy/stats/stats.py:3913: PearsonRConstantInputWarning: An input array is constant; the correlation coefficent is not defined.\n",
      "  warnings.warn(PearsonRConstantInputWarning())\n",
      "/Users/cbuntain/Development/anaconda3/lib/python3.8/site-packages/scipy/stats/stats.py:4264: SpearmanRConstantInputWarning: An input array is constant; the correlation coefficent is not defined.\n",
      "  warnings.warn(SpearmanRConstantInputWarning())\n"
     ]
    },
    {
     "name": "stdout",
     "output_type": "stream",
     "text": [
      "Skipping user with no ratings in held-out set: 107331\n",
      "Skipping user with no ratings in held-out set: 83897\n",
      "Skipping user with no ratings in held-out set: 4378\n",
      "Skipping user with no ratings in held-out set: 12198\n"
     ]
    },
    {
     "name": "stderr",
     "output_type": "stream",
     "text": [
      "/Users/cbuntain/Development/anaconda3/lib/python3.8/site-packages/scipy/stats/stats.py:3913: PearsonRConstantInputWarning: An input array is constant; the correlation coefficent is not defined.\n",
      "  warnings.warn(PearsonRConstantInputWarning())\n",
      "/Users/cbuntain/Development/anaconda3/lib/python3.8/site-packages/scipy/stats/stats.py:4264: SpearmanRConstantInputWarning: An input array is constant; the correlation coefficent is not defined.\n",
      "  warnings.warn(SpearmanRConstantInputWarning())\n"
     ]
    },
    {
     "name": "stdout",
     "output_type": "stream",
     "text": [
      "Skipping user with no ratings in held-out set: 17667\n"
     ]
    },
    {
     "name": "stderr",
     "output_type": "stream",
     "text": [
      "/Users/cbuntain/Development/anaconda3/lib/python3.8/site-packages/scipy/stats/stats.py:3913: PearsonRConstantInputWarning: An input array is constant; the correlation coefficent is not defined.\n",
      "  warnings.warn(PearsonRConstantInputWarning())\n",
      "/Users/cbuntain/Development/anaconda3/lib/python3.8/site-packages/scipy/stats/stats.py:4264: SpearmanRConstantInputWarning: An input array is constant; the correlation coefficent is not defined.\n",
      "  warnings.warn(SpearmanRConstantInputWarning())\n",
      "/Users/cbuntain/Development/anaconda3/lib/python3.8/site-packages/scipy/stats/stats.py:3913: PearsonRConstantInputWarning: An input array is constant; the correlation coefficent is not defined.\n",
      "  warnings.warn(PearsonRConstantInputWarning())\n",
      "/Users/cbuntain/Development/anaconda3/lib/python3.8/site-packages/scipy/stats/stats.py:4264: SpearmanRConstantInputWarning: An input array is constant; the correlation coefficent is not defined.\n",
      "  warnings.warn(SpearmanRConstantInputWarning())\n"
     ]
    },
    {
     "name": "stdout",
     "output_type": "stream",
     "text": [
      "Skipping user with no ratings in held-out set: 66431\n",
      "Skipping user with no ratings in held-out set: 97011\n"
     ]
    },
    {
     "name": "stderr",
     "output_type": "stream",
     "text": [
      "/Users/cbuntain/Development/anaconda3/lib/python3.8/site-packages/scipy/stats/stats.py:3913: PearsonRConstantInputWarning: An input array is constant; the correlation coefficent is not defined.\n",
      "  warnings.warn(PearsonRConstantInputWarning())\n",
      "/Users/cbuntain/Development/anaconda3/lib/python3.8/site-packages/scipy/stats/stats.py:4264: SpearmanRConstantInputWarning: An input array is constant; the correlation coefficent is not defined.\n",
      "  warnings.warn(SpearmanRConstantInputWarning())\n"
     ]
    },
    {
     "name": "stdout",
     "output_type": "stream",
     "text": [
      "Skipping user with no ratings in held-out set: 19023\n"
     ]
    },
    {
     "name": "stderr",
     "output_type": "stream",
     "text": [
      "/Users/cbuntain/Development/anaconda3/lib/python3.8/site-packages/scipy/stats/stats.py:3913: PearsonRConstantInputWarning: An input array is constant; the correlation coefficent is not defined.\n",
      "  warnings.warn(PearsonRConstantInputWarning())\n",
      "/Users/cbuntain/Development/anaconda3/lib/python3.8/site-packages/scipy/stats/stats.py:4264: SpearmanRConstantInputWarning: An input array is constant; the correlation coefficent is not defined.\n",
      "  warnings.warn(SpearmanRConstantInputWarning())\n",
      "/Users/cbuntain/Development/anaconda3/lib/python3.8/site-packages/scipy/stats/stats.py:3913: PearsonRConstantInputWarning: An input array is constant; the correlation coefficent is not defined.\n",
      "  warnings.warn(PearsonRConstantInputWarning())\n",
      "/Users/cbuntain/Development/anaconda3/lib/python3.8/site-packages/scipy/stats/stats.py:4264: SpearmanRConstantInputWarning: An input array is constant; the correlation coefficent is not defined.\n",
      "  warnings.warn(SpearmanRConstantInputWarning())\n",
      "/Users/cbuntain/Development/anaconda3/lib/python3.8/site-packages/scipy/stats/stats.py:3913: PearsonRConstantInputWarning: An input array is constant; the correlation coefficent is not defined.\n",
      "  warnings.warn(PearsonRConstantInputWarning())\n",
      "/Users/cbuntain/Development/anaconda3/lib/python3.8/site-packages/scipy/stats/stats.py:4264: SpearmanRConstantInputWarning: An input array is constant; the correlation coefficent is not defined.\n",
      "  warnings.warn(SpearmanRConstantInputWarning())\n",
      "/Users/cbuntain/Development/anaconda3/lib/python3.8/site-packages/scipy/stats/stats.py:3913: PearsonRConstantInputWarning: An input array is constant; the correlation coefficent is not defined.\n",
      "  warnings.warn(PearsonRConstantInputWarning())\n",
      "/Users/cbuntain/Development/anaconda3/lib/python3.8/site-packages/scipy/stats/stats.py:4264: SpearmanRConstantInputWarning: An input array is constant; the correlation coefficent is not defined.\n",
      "  warnings.warn(SpearmanRConstantInputWarning())\n"
     ]
    },
    {
     "name": "stdout",
     "output_type": "stream",
     "text": [
      "Skipping user with no ratings in held-out set: 1884\n"
     ]
    },
    {
     "name": "stderr",
     "output_type": "stream",
     "text": [
      "/Users/cbuntain/Development/anaconda3/lib/python3.8/site-packages/scipy/stats/stats.py:3913: PearsonRConstantInputWarning: An input array is constant; the correlation coefficent is not defined.\n",
      "  warnings.warn(PearsonRConstantInputWarning())\n",
      "/Users/cbuntain/Development/anaconda3/lib/python3.8/site-packages/scipy/stats/stats.py:4264: SpearmanRConstantInputWarning: An input array is constant; the correlation coefficent is not defined.\n",
      "  warnings.warn(SpearmanRConstantInputWarning())\n",
      "/Users/cbuntain/Development/anaconda3/lib/python3.8/site-packages/scipy/stats/stats.py:3913: PearsonRConstantInputWarning: An input array is constant; the correlation coefficent is not defined.\n",
      "  warnings.warn(PearsonRConstantInputWarning())\n",
      "/Users/cbuntain/Development/anaconda3/lib/python3.8/site-packages/scipy/stats/stats.py:4264: SpearmanRConstantInputWarning: An input array is constant; the correlation coefficent is not defined.\n",
      "  warnings.warn(SpearmanRConstantInputWarning())\n"
     ]
    },
    {
     "name": "stdout",
     "output_type": "stream",
     "text": [
      "Skipping user with no ratings in held-out set: 61616\n"
     ]
    },
    {
     "name": "stderr",
     "output_type": "stream",
     "text": [
      "/Users/cbuntain/Development/anaconda3/lib/python3.8/site-packages/scipy/stats/stats.py:3913: PearsonRConstantInputWarning: An input array is constant; the correlation coefficent is not defined.\n",
      "  warnings.warn(PearsonRConstantInputWarning())\n",
      "/Users/cbuntain/Development/anaconda3/lib/python3.8/site-packages/scipy/stats/stats.py:4264: SpearmanRConstantInputWarning: An input array is constant; the correlation coefficent is not defined.\n",
      "  warnings.warn(SpearmanRConstantInputWarning())\n",
      "/Users/cbuntain/Development/anaconda3/lib/python3.8/site-packages/scipy/stats/stats.py:3913: PearsonRConstantInputWarning: An input array is constant; the correlation coefficent is not defined.\n",
      "  warnings.warn(PearsonRConstantInputWarning())\n",
      "/Users/cbuntain/Development/anaconda3/lib/python3.8/site-packages/scipy/stats/stats.py:4264: SpearmanRConstantInputWarning: An input array is constant; the correlation coefficent is not defined.\n",
      "  warnings.warn(SpearmanRConstantInputWarning())\n",
      "/Users/cbuntain/Development/anaconda3/lib/python3.8/site-packages/scipy/stats/stats.py:3913: PearsonRConstantInputWarning: An input array is constant; the correlation coefficent is not defined.\n",
      "  warnings.warn(PearsonRConstantInputWarning())\n",
      "/Users/cbuntain/Development/anaconda3/lib/python3.8/site-packages/scipy/stats/stats.py:4264: SpearmanRConstantInputWarning: An input array is constant; the correlation coefficent is not defined.\n",
      "  warnings.warn(SpearmanRConstantInputWarning())\n",
      "/Users/cbuntain/Development/anaconda3/lib/python3.8/site-packages/scipy/stats/stats.py:3913: PearsonRConstantInputWarning: An input array is constant; the correlation coefficent is not defined.\n",
      "  warnings.warn(PearsonRConstantInputWarning())\n",
      "/Users/cbuntain/Development/anaconda3/lib/python3.8/site-packages/scipy/stats/stats.py:4264: SpearmanRConstantInputWarning: An input array is constant; the correlation coefficent is not defined.\n",
      "  warnings.warn(SpearmanRConstantInputWarning())\n",
      "/Users/cbuntain/Development/anaconda3/lib/python3.8/site-packages/scipy/stats/stats.py:3913: PearsonRConstantInputWarning: An input array is constant; the correlation coefficent is not defined.\n",
      "  warnings.warn(PearsonRConstantInputWarning())\n",
      "/Users/cbuntain/Development/anaconda3/lib/python3.8/site-packages/scipy/stats/stats.py:4264: SpearmanRConstantInputWarning: An input array is constant; the correlation coefficent is not defined.\n",
      "  warnings.warn(SpearmanRConstantInputWarning())\n",
      "/Users/cbuntain/Development/anaconda3/lib/python3.8/site-packages/scipy/stats/stats.py:3913: PearsonRConstantInputWarning: An input array is constant; the correlation coefficent is not defined.\n",
      "  warnings.warn(PearsonRConstantInputWarning())\n",
      "/Users/cbuntain/Development/anaconda3/lib/python3.8/site-packages/scipy/stats/stats.py:4264: SpearmanRConstantInputWarning: An input array is constant; the correlation coefficent is not defined.\n",
      "  warnings.warn(SpearmanRConstantInputWarning())\n"
     ]
    },
    {
     "name": "stdout",
     "output_type": "stream",
     "text": [
      "Skipping user with no ratings in held-out set: 142616\n"
     ]
    },
    {
     "name": "stderr",
     "output_type": "stream",
     "text": [
      "/Users/cbuntain/Development/anaconda3/lib/python3.8/site-packages/scipy/stats/stats.py:3913: PearsonRConstantInputWarning: An input array is constant; the correlation coefficent is not defined.\n",
      "  warnings.warn(PearsonRConstantInputWarning())\n",
      "/Users/cbuntain/Development/anaconda3/lib/python3.8/site-packages/scipy/stats/stats.py:4264: SpearmanRConstantInputWarning: An input array is constant; the correlation coefficent is not defined.\n",
      "  warnings.warn(SpearmanRConstantInputWarning())\n"
     ]
    },
    {
     "name": "stdout",
     "output_type": "stream",
     "text": [
      "Skipping user with no ratings in held-out set: 88630\n"
     ]
    },
    {
     "name": "stderr",
     "output_type": "stream",
     "text": [
      "/Users/cbuntain/Development/anaconda3/lib/python3.8/site-packages/scipy/stats/stats.py:3913: PearsonRConstantInputWarning: An input array is constant; the correlation coefficent is not defined.\n",
      "  warnings.warn(PearsonRConstantInputWarning())\n",
      "/Users/cbuntain/Development/anaconda3/lib/python3.8/site-packages/scipy/stats/stats.py:4264: SpearmanRConstantInputWarning: An input array is constant; the correlation coefficent is not defined.\n",
      "  warnings.warn(SpearmanRConstantInputWarning())\n",
      "/Users/cbuntain/Development/anaconda3/lib/python3.8/site-packages/scipy/stats/stats.py:3913: PearsonRConstantInputWarning: An input array is constant; the correlation coefficent is not defined.\n",
      "  warnings.warn(PearsonRConstantInputWarning())\n",
      "/Users/cbuntain/Development/anaconda3/lib/python3.8/site-packages/scipy/stats/stats.py:4264: SpearmanRConstantInputWarning: An input array is constant; the correlation coefficent is not defined.\n",
      "  warnings.warn(SpearmanRConstantInputWarning())\n",
      "/Users/cbuntain/Development/anaconda3/lib/python3.8/site-packages/scipy/stats/stats.py:3913: PearsonRConstantInputWarning: An input array is constant; the correlation coefficent is not defined.\n",
      "  warnings.warn(PearsonRConstantInputWarning())\n",
      "/Users/cbuntain/Development/anaconda3/lib/python3.8/site-packages/scipy/stats/stats.py:4264: SpearmanRConstantInputWarning: An input array is constant; the correlation coefficent is not defined.\n",
      "  warnings.warn(SpearmanRConstantInputWarning())\n",
      "/Users/cbuntain/Development/anaconda3/lib/python3.8/site-packages/scipy/stats/stats.py:3913: PearsonRConstantInputWarning: An input array is constant; the correlation coefficent is not defined.\n",
      "  warnings.warn(PearsonRConstantInputWarning())\n",
      "/Users/cbuntain/Development/anaconda3/lib/python3.8/site-packages/scipy/stats/stats.py:4264: SpearmanRConstantInputWarning: An input array is constant; the correlation coefficent is not defined.\n",
      "  warnings.warn(SpearmanRConstantInputWarning())\n"
     ]
    },
    {
     "name": "stdout",
     "output_type": "stream",
     "text": [
      "Skipping user with no ratings in held-out set: 3085\n"
     ]
    },
    {
     "name": "stderr",
     "output_type": "stream",
     "text": [
      "/Users/cbuntain/Development/anaconda3/lib/python3.8/site-packages/scipy/stats/stats.py:3913: PearsonRConstantInputWarning: An input array is constant; the correlation coefficent is not defined.\n",
      "  warnings.warn(PearsonRConstantInputWarning())\n",
      "/Users/cbuntain/Development/anaconda3/lib/python3.8/site-packages/scipy/stats/stats.py:4264: SpearmanRConstantInputWarning: An input array is constant; the correlation coefficent is not defined.\n",
      "  warnings.warn(SpearmanRConstantInputWarning())\n"
     ]
    },
    {
     "name": "stdout",
     "output_type": "stream",
     "text": [
      "Skipping user with no ratings in held-out set: 84580\n"
     ]
    },
    {
     "name": "stderr",
     "output_type": "stream",
     "text": [
      "/Users/cbuntain/Development/anaconda3/lib/python3.8/site-packages/scipy/stats/stats.py:3913: PearsonRConstantInputWarning: An input array is constant; the correlation coefficent is not defined.\n",
      "  warnings.warn(PearsonRConstantInputWarning())\n",
      "/Users/cbuntain/Development/anaconda3/lib/python3.8/site-packages/scipy/stats/stats.py:4264: SpearmanRConstantInputWarning: An input array is constant; the correlation coefficent is not defined.\n",
      "  warnings.warn(SpearmanRConstantInputWarning())\n"
     ]
    },
    {
     "name": "stdout",
     "output_type": "stream",
     "text": [
      "Skipping user with no ratings in held-out set: 67032\n"
     ]
    },
    {
     "name": "stderr",
     "output_type": "stream",
     "text": [
      "/Users/cbuntain/Development/anaconda3/lib/python3.8/site-packages/scipy/stats/stats.py:3913: PearsonRConstantInputWarning: An input array is constant; the correlation coefficent is not defined.\n",
      "  warnings.warn(PearsonRConstantInputWarning())\n",
      "/Users/cbuntain/Development/anaconda3/lib/python3.8/site-packages/scipy/stats/stats.py:4264: SpearmanRConstantInputWarning: An input array is constant; the correlation coefficent is not defined.\n",
      "  warnings.warn(SpearmanRConstantInputWarning())\n",
      "/Users/cbuntain/Development/anaconda3/lib/python3.8/site-packages/scipy/stats/stats.py:3913: PearsonRConstantInputWarning: An input array is constant; the correlation coefficent is not defined.\n",
      "  warnings.warn(PearsonRConstantInputWarning())\n",
      "/Users/cbuntain/Development/anaconda3/lib/python3.8/site-packages/scipy/stats/stats.py:4264: SpearmanRConstantInputWarning: An input array is constant; the correlation coefficent is not defined.\n",
      "  warnings.warn(SpearmanRConstantInputWarning())\n",
      "/Users/cbuntain/Development/anaconda3/lib/python3.8/site-packages/scipy/stats/stats.py:3913: PearsonRConstantInputWarning: An input array is constant; the correlation coefficent is not defined.\n",
      "  warnings.warn(PearsonRConstantInputWarning())\n",
      "/Users/cbuntain/Development/anaconda3/lib/python3.8/site-packages/scipy/stats/stats.py:4264: SpearmanRConstantInputWarning: An input array is constant; the correlation coefficent is not defined.\n",
      "  warnings.warn(SpearmanRConstantInputWarning())\n",
      "/Users/cbuntain/Development/anaconda3/lib/python3.8/site-packages/scipy/stats/stats.py:3913: PearsonRConstantInputWarning: An input array is constant; the correlation coefficent is not defined.\n",
      "  warnings.warn(PearsonRConstantInputWarning())\n",
      "/Users/cbuntain/Development/anaconda3/lib/python3.8/site-packages/scipy/stats/stats.py:4264: SpearmanRConstantInputWarning: An input array is constant; the correlation coefficent is not defined.\n",
      "  warnings.warn(SpearmanRConstantInputWarning())\n",
      "/Users/cbuntain/Development/anaconda3/lib/python3.8/site-packages/scipy/stats/stats.py:3913: PearsonRConstantInputWarning: An input array is constant; the correlation coefficent is not defined.\n",
      "  warnings.warn(PearsonRConstantInputWarning())\n",
      "/Users/cbuntain/Development/anaconda3/lib/python3.8/site-packages/scipy/stats/stats.py:4264: SpearmanRConstantInputWarning: An input array is constant; the correlation coefficent is not defined.\n",
      "  warnings.warn(SpearmanRConstantInputWarning())\n",
      "/Users/cbuntain/Development/anaconda3/lib/python3.8/site-packages/scipy/stats/stats.py:3913: PearsonRConstantInputWarning: An input array is constant; the correlation coefficent is not defined.\n",
      "  warnings.warn(PearsonRConstantInputWarning())\n",
      "/Users/cbuntain/Development/anaconda3/lib/python3.8/site-packages/scipy/stats/stats.py:4264: SpearmanRConstantInputWarning: An input array is constant; the correlation coefficent is not defined.\n",
      "  warnings.warn(SpearmanRConstantInputWarning())\n"
     ]
    },
    {
     "name": "stdout",
     "output_type": "stream",
     "text": [
      "Skipping user with no ratings in held-out set: 83897\n",
      "Skipping user with no ratings in held-out set: 40408\n",
      "Skipping user with no ratings in held-out set: 37746\n",
      "Skipping user with no ratings in held-out set: 135316\n"
     ]
    },
    {
     "name": "stderr",
     "output_type": "stream",
     "text": [
      "/Users/cbuntain/Development/anaconda3/lib/python3.8/site-packages/scipy/stats/stats.py:3913: PearsonRConstantInputWarning: An input array is constant; the correlation coefficent is not defined.\n",
      "  warnings.warn(PearsonRConstantInputWarning())\n",
      "/Users/cbuntain/Development/anaconda3/lib/python3.8/site-packages/scipy/stats/stats.py:4264: SpearmanRConstantInputWarning: An input array is constant; the correlation coefficent is not defined.\n",
      "  warnings.warn(SpearmanRConstantInputWarning())\n",
      "/Users/cbuntain/Development/anaconda3/lib/python3.8/site-packages/scipy/stats/stats.py:3913: PearsonRConstantInputWarning: An input array is constant; the correlation coefficent is not defined.\n",
      "  warnings.warn(PearsonRConstantInputWarning())\n",
      "/Users/cbuntain/Development/anaconda3/lib/python3.8/site-packages/scipy/stats/stats.py:4264: SpearmanRConstantInputWarning: An input array is constant; the correlation coefficent is not defined.\n",
      "  warnings.warn(SpearmanRConstantInputWarning())\n",
      "/Users/cbuntain/Development/anaconda3/lib/python3.8/site-packages/scipy/stats/stats.py:3913: PearsonRConstantInputWarning: An input array is constant; the correlation coefficent is not defined.\n",
      "  warnings.warn(PearsonRConstantInputWarning())\n",
      "/Users/cbuntain/Development/anaconda3/lib/python3.8/site-packages/scipy/stats/stats.py:4264: SpearmanRConstantInputWarning: An input array is constant; the correlation coefficent is not defined.\n",
      "  warnings.warn(SpearmanRConstantInputWarning())\n"
     ]
    },
    {
     "name": "stdout",
     "output_type": "stream",
     "text": [
      "Skipping user with no ratings in held-out set: 23802\n"
     ]
    },
    {
     "name": "stderr",
     "output_type": "stream",
     "text": [
      "/Users/cbuntain/Development/anaconda3/lib/python3.8/site-packages/scipy/stats/stats.py:3913: PearsonRConstantInputWarning: An input array is constant; the correlation coefficent is not defined.\n",
      "  warnings.warn(PearsonRConstantInputWarning())\n",
      "/Users/cbuntain/Development/anaconda3/lib/python3.8/site-packages/scipy/stats/stats.py:4264: SpearmanRConstantInputWarning: An input array is constant; the correlation coefficent is not defined.\n",
      "  warnings.warn(SpearmanRConstantInputWarning())\n"
     ]
    },
    {
     "name": "stdout",
     "output_type": "stream",
     "text": [
      "Skipping user with no ratings in held-out set: 49710\n",
      "Skipping user with no ratings in held-out set: 2773\n"
     ]
    },
    {
     "name": "stderr",
     "output_type": "stream",
     "text": [
      "/Users/cbuntain/Development/anaconda3/lib/python3.8/site-packages/scipy/stats/stats.py:3913: PearsonRConstantInputWarning: An input array is constant; the correlation coefficent is not defined.\n",
      "  warnings.warn(PearsonRConstantInputWarning())\n",
      "/Users/cbuntain/Development/anaconda3/lib/python3.8/site-packages/scipy/stats/stats.py:4264: SpearmanRConstantInputWarning: An input array is constant; the correlation coefficent is not defined.\n",
      "  warnings.warn(SpearmanRConstantInputWarning())\n"
     ]
    },
    {
     "name": "stdout",
     "output_type": "stream",
     "text": [
      "Skipping user with no ratings in held-out set: 77694\n",
      "Skipping user with no ratings in held-out set: 123840\n",
      "Skipping user with no ratings in held-out set: 157211\n"
     ]
    },
    {
     "name": "stderr",
     "output_type": "stream",
     "text": [
      "/Users/cbuntain/Development/anaconda3/lib/python3.8/site-packages/scipy/stats/stats.py:3913: PearsonRConstantInputWarning: An input array is constant; the correlation coefficent is not defined.\n",
      "  warnings.warn(PearsonRConstantInputWarning())\n",
      "/Users/cbuntain/Development/anaconda3/lib/python3.8/site-packages/scipy/stats/stats.py:4264: SpearmanRConstantInputWarning: An input array is constant; the correlation coefficent is not defined.\n",
      "  warnings.warn(SpearmanRConstantInputWarning())\n",
      "/Users/cbuntain/Development/anaconda3/lib/python3.8/site-packages/scipy/stats/stats.py:3913: PearsonRConstantInputWarning: An input array is constant; the correlation coefficent is not defined.\n",
      "  warnings.warn(PearsonRConstantInputWarning())\n",
      "/Users/cbuntain/Development/anaconda3/lib/python3.8/site-packages/scipy/stats/stats.py:4264: SpearmanRConstantInputWarning: An input array is constant; the correlation coefficent is not defined.\n",
      "  warnings.warn(SpearmanRConstantInputWarning())\n"
     ]
    },
    {
     "name": "stdout",
     "output_type": "stream",
     "text": [
      "Skipping user with no ratings in held-out set: 140675\n",
      "Skipping user with no ratings in held-out set: 100176\n",
      "Skipping user with no ratings in held-out set: 57878\n"
     ]
    },
    {
     "name": "stderr",
     "output_type": "stream",
     "text": [
      "/Users/cbuntain/Development/anaconda3/lib/python3.8/site-packages/scipy/stats/stats.py:3913: PearsonRConstantInputWarning: An input array is constant; the correlation coefficent is not defined.\n",
      "  warnings.warn(PearsonRConstantInputWarning())\n",
      "/Users/cbuntain/Development/anaconda3/lib/python3.8/site-packages/scipy/stats/stats.py:4264: SpearmanRConstantInputWarning: An input array is constant; the correlation coefficent is not defined.\n",
      "  warnings.warn(SpearmanRConstantInputWarning())\n"
     ]
    },
    {
     "name": "stdout",
     "output_type": "stream",
     "text": [
      "Skipping user with no ratings in held-out set: 31709\n",
      "Skipping user with no ratings in held-out set: 42145\n",
      "Skipping user with no ratings in held-out set: 17632\n",
      "Skipping user with no ratings in held-out set: 161805\n"
     ]
    },
    {
     "name": "stderr",
     "output_type": "stream",
     "text": [
      "/Users/cbuntain/Development/anaconda3/lib/python3.8/site-packages/scipy/stats/stats.py:3913: PearsonRConstantInputWarning: An input array is constant; the correlation coefficent is not defined.\n",
      "  warnings.warn(PearsonRConstantInputWarning())\n",
      "/Users/cbuntain/Development/anaconda3/lib/python3.8/site-packages/scipy/stats/stats.py:4264: SpearmanRConstantInputWarning: An input array is constant; the correlation coefficent is not defined.\n",
      "  warnings.warn(SpearmanRConstantInputWarning())\n",
      "/Users/cbuntain/Development/anaconda3/lib/python3.8/site-packages/scipy/stats/stats.py:3913: PearsonRConstantInputWarning: An input array is constant; the correlation coefficent is not defined.\n",
      "  warnings.warn(PearsonRConstantInputWarning())\n",
      "/Users/cbuntain/Development/anaconda3/lib/python3.8/site-packages/scipy/stats/stats.py:4264: SpearmanRConstantInputWarning: An input array is constant; the correlation coefficent is not defined.\n",
      "  warnings.warn(SpearmanRConstantInputWarning())\n"
     ]
    },
    {
     "name": "stdout",
     "output_type": "stream",
     "text": [
      "Skipping user with no ratings in held-out set: 67999\n",
      "Skipping user with no ratings in held-out set: 77841\n",
      "Skipping user with no ratings in held-out set: 33047\n",
      "Skipping user with no ratings in held-out set: 130857\n"
     ]
    },
    {
     "name": "stderr",
     "output_type": "stream",
     "text": [
      "/Users/cbuntain/Development/anaconda3/lib/python3.8/site-packages/scipy/stats/stats.py:3913: PearsonRConstantInputWarning: An input array is constant; the correlation coefficent is not defined.\n",
      "  warnings.warn(PearsonRConstantInputWarning())\n",
      "/Users/cbuntain/Development/anaconda3/lib/python3.8/site-packages/scipy/stats/stats.py:4264: SpearmanRConstantInputWarning: An input array is constant; the correlation coefficent is not defined.\n",
      "  warnings.warn(SpearmanRConstantInputWarning())\n"
     ]
    }
   ],
   "source": [
    "new_metrics = []\n",
    "\n",
    "for u in held_out_users:\n",
    "\n",
    "    this_held_out_movies = user_by_movie_df.loc[u][held_out_movies]\n",
    "    if sum(this_held_out_movies) == 0:\n",
    "        print(\"Skipping user with no ratings in held-out set:\", u)\n",
    "        continue\n",
    "        \n",
    "    u2u_movie_ratings = recs_for_user(u, training_df, 20, threshold=0.5, centering=False)\n",
    "\n",
    "    # Calculate mean squared error\n",
    "    mse = mean_squared_error(this_held_out_movies, u2u_movie_ratings[held_out_movies])\n",
    "    \n",
    "    # Pearson correlation for rankings\n",
    "    corr_p = pearsonr(this_held_out_movies, u2u_movie_ratings[held_out_movies])[0]\n",
    "    \n",
    "    # Spearman correlation for *rankings* rather than overall ratings\n",
    "    corr_s = spearmanr(this_held_out_movies, u2u_movie_ratings[held_out_movies]).correlation\n",
    "    \n",
    "    # Top k rankings, i.e., what's the similarity between the top-k for this user and all the dataset?\n",
    "    this_top_k = set(this_held_out_movies.sort_values(ascending=False).head(top_k).keys())\n",
    "    global_top_k = set(u2u_movie_ratings[held_out_movies].sort_values(ascending=False).head(top_k).keys())\n",
    "\n",
    "    # What's the Precision between this user's top-k and global top-k?\n",
    "    precision_at_k = len(this_top_k.intersection(global_top_k)) / len(this_top_k)\n",
    "    \n",
    "    new_metrics.append({\n",
    "        \"mse\": mse,\n",
    "        \"pearson\": corr_p,\n",
    "        \"spearman\": corr_s,\n",
    "        \"pr@k\": precision_at_k,\n",
    "    })\n",
    "    \n"
   ]
  },
  {
   "cell_type": "code",
   "execution_count": 72,
   "id": "98940ca8",
   "metadata": {},
   "outputs": [
    {
     "data": {
      "text/plain": [
       "mse         0.426602\n",
       "pearson     0.586040\n",
       "spearman    0.577216\n",
       "pr@k        0.350877\n",
       "dtype: float64"
      ]
     },
     "execution_count": 72,
     "metadata": {},
     "output_type": "execute_result"
    }
   ],
   "source": [
    "new_metrics_df = pd.DataFrame(new_metrics)\n",
    "new_metrics_df.mean()"
   ]
  },
  {
   "cell_type": "code",
   "execution_count": null,
   "id": "af50824b",
   "metadata": {},
   "outputs": [],
   "source": []
  },
  {
   "cell_type": "markdown",
   "id": "b1f0de6e",
   "metadata": {},
   "source": [
    "## Visually Compare Metrics\n",
    "\n",
    "Plot the performance metrics between the baseline and provided recommendations, with ~95% confidence interval error bars, so we can see whether we get significant increases."
   ]
  },
  {
   "cell_type": "code",
   "execution_count": 73,
   "id": "561fcfe3",
   "metadata": {},
   "outputs": [
    {
     "data": {
      "image/png": "[encoded data removed]",
      "text/plain": [
       "<Figure size 1152x648 with 1 Axes>"
      ]
     },
     "metadata": {
      "needs_background": "light"
     },
     "output_type": "display_data"
    }
   ],
   "source": [
    "figure = plt.figure(figsize=(16,9))\n",
    "ax = figure.add_subplot(1,1,1)\n",
    "\n",
    "base_metric_err = 2*base_metrics_df.std() / np.sqrt(base_metrics_df.shape[0])\n",
    "new_metric_err = 2 * new_metrics_df.std() / np.sqrt(new_metrics_df.shape[0])\n",
    "\n",
    "width = 0.25\n",
    "ax.bar(x=[x-width/2 for x in range(4)], height=base_metrics_df.mean(), yerr=base_metric_err, width=width)\n",
    "ax.bar(x=[x+width/2 for x in range(4)], height=new_metrics_df.mean(), yerr=new_metric_err,  width=width)\n",
    "\n",
    "ax.set_xticks(range(4))\n",
    "ax.set_xticklabels(base_metrics_df.columns)\n",
    "\n",
    "plt.show()"
   ]
  },
  {
   "cell_type": "code",
   "execution_count": null,
   "id": "93e357d3",
   "metadata": {},
   "outputs": [],
   "source": []
  }
 ],
 "metadata": {
  "kernelspec": {
   "display_name": "Python 3",
   "language": "python",
   "name": "python3"
  },
  "language_info": {
   "codemirror_mode": {
    "name": "ipython",
    "version": 3
   },
   "file_extension": ".py",
   "mimetype": "text/x-python",
   "name": "python",
   "nbconvert_exporter": "python",
   "pygments_lexer": "ipython3",
   "version": "3.8.8"
  }
 },
 "nbformat": 4,
 "nbformat_minor": 5
}
