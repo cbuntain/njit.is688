{
 "cells": [
  {
   "cell_type": "markdown",
   "id": "56fb9ab7",
   "metadata": {},
   "source": [
    "# Evaluationf or Item x Item Feedback\n",
    "\n",
    "Using the IMDB and MovieLens data, we build a feature matrix that we can use for user-user and item-item recommendation.\n",
    "\n",
    "Here, we construct an Item-Item based recsys and evaluate it against our baseline."
   ]
  },
  {
   "cell_type": "code",
   "execution_count": 1,
   "id": "a8a8127e",
   "metadata": {},
   "outputs": [],
   "source": [
    "%matplotlib inline"
   ]
  },
  {
   "cell_type": "code",
   "execution_count": 2,
   "id": "0be2c95c",
   "metadata": {},
   "outputs": [],
   "source": [
    "import json\n",
    "import random\n",
    "import pandas as pd\n",
    "import numpy as np\n",
    "\n",
    "import matplotlib.pyplot as plt\n",
    "\n",
    "from collections import Counter\n",
    "\n",
    "from scipy.sparse import lil_matrix\n",
    "from scipy.stats import pearsonr\n",
    "from scipy.stats import spearmanr\n",
    "\n",
    "from sklearn.neighbors import DistanceMetric\n",
    "from sklearn.metrics import mean_squared_error\n",
    "from sklearn.metrics import jaccard_score\n",
    "from sklearn.metrics import pairwise_distances"
   ]
  },
  {
   "cell_type": "code",
   "execution_count": null,
   "id": "32201009",
   "metadata": {},
   "outputs": [],
   "source": []
  },
  {
   "cell_type": "code",
   "execution_count": 3,
   "id": "14fb3d0a",
   "metadata": {},
   "outputs": [],
   "source": [
    "known_movies = set()\n",
    "\n",
    "user_ratings = {} # List of all our movie ratings for specific users\n",
    "movie_ids = []\n",
    "\n",
    "with open(\"../data/user_ratings.json\", \"r\") as in_file:\n",
    "    for line in in_file:\n",
    "        \n",
    "        this_rating = json.loads(line)\n",
    "        \n",
    "        known_movies.add(this_rating[\"title_id\"])\n",
    "        \n",
    "        if this_rating[\"title_id\"] not in movie_ids:\n",
    "            movie_ids.append(this_rating[\"title_id\"])\n",
    "        \n",
    "        this_users_ratings = user_ratings.get(this_rating[\"userId\"], [])\n",
    "        this_users_ratings.append((this_rating[\"title_id\"], this_rating[\"rating\"]))\n",
    "        \n",
    "        user_ratings[this_rating[\"userId\"]] = this_users_ratings\n",
    "        \n",
    "        "
   ]
  },
  {
   "cell_type": "code",
   "execution_count": 4,
   "id": "c0d10f74",
   "metadata": {},
   "outputs": [],
   "source": [
    "movie_id_to_index = {m:i for i,m in enumerate(movie_ids)}"
   ]
  },
  {
   "cell_type": "code",
   "execution_count": 5,
   "id": "0dc50303",
   "metadata": {},
   "outputs": [
    {
     "name": "stdout",
     "output_type": "stream",
     "text": [
      "Known Users: 2244\n",
      "Known Movies: 4465\n"
     ]
    }
   ],
   "source": [
    "print(\"Known Users:\", len(user_ratings))\n",
    "print(\"Known Movies:\", len(known_movies))\n"
   ]
  },
  {
   "cell_type": "code",
   "execution_count": null,
   "id": "0f2932de",
   "metadata": {},
   "outputs": [],
   "source": []
  },
  {
   "cell_type": "code",
   "execution_count": 6,
   "id": "48dc9bf4",
   "metadata": {},
   "outputs": [],
   "source": [
    "actor_id_to_name_map = {}     # Map Actor IDs to actor names\n",
    "actor_id_to_index_map = {}    # Map actor IDs to a unique index of known actors\n",
    "index_to_actor_ids = []       # Array mapping unique index back to actor ID (invert of actor_id_to_index_map)\n",
    "\n",
    "index_counter = 0    # Unique actor index; increment for each new actor\n",
    "known_actors = set()\n",
    "\n",
    "movie_actor_map = {} # List of all our movies and their actors\n",
    "\n",
    "test_count = 0\n",
    "with open(\"../data/imdb_recent_movies.json\", \"r\") as in_file:\n",
    "    for line in in_file:\n",
    "        \n",
    "        this_movie = json.loads(line)\n",
    "        \n",
    "        # Restrict to known movies\n",
    "        if this_movie[\"title_id\"] not in known_movies:\n",
    "            continue\n",
    "            \n",
    "        # Keep track of all the actors in this movie\n",
    "        for actor_id,actor_name in zip(this_movie['actor_ids'],this_movie['actor_names']):\n",
    "            \n",
    "            # Keep names and IDs\n",
    "            actor_id_to_name_map[actor_id] = actor_name\n",
    "            \n",
    "            # If we've seen this actor before, skip...\n",
    "            if actor_id in known_actors:\n",
    "                continue\n",
    "                \n",
    "            # ... Otherwise, add to known actor set and create new index for them\n",
    "            known_actors.add(actor_id)\n",
    "            actor_id_to_index_map[actor_id] = index_counter\n",
    "            index_to_actor_ids.append(actor_id)\n",
    "            index_counter += 1\n",
    "            \n",
    "        # Finished with this film\n",
    "        movie_actor_map[this_movie[\"title_id\"]] = ({\n",
    "            \"movie\": this_movie[\"title_name\"],\n",
    "            \"actors\": set(this_movie['actor_ids']),\n",
    "            \"genres\": this_movie[\"title_genre\"]\n",
    "        })"
   ]
  },
  {
   "cell_type": "code",
   "execution_count": 7,
   "id": "6f78e123",
   "metadata": {},
   "outputs": [
    {
     "name": "stdout",
     "output_type": "stream",
     "text": [
      "Known Actors: 5224\n",
      "Known Movies: 4465\n"
     ]
    }
   ],
   "source": [
    "print(\"Known Actors:\", len(known_actors))\n",
    "print(\"Known Movies:\", len(movie_actor_map))"
   ]
  },
  {
   "cell_type": "code",
   "execution_count": null,
   "id": "856ee68d",
   "metadata": {},
   "outputs": [],
   "source": []
  },
  {
   "cell_type": "markdown",
   "id": "f06c4064",
   "metadata": {},
   "source": [
    "## Generate DataFrame using Sparse Matrics\n",
    "\n",
    "Convert our Movie Ratings data into a DataFrame that we can use for analysis."
   ]
  },
  {
   "cell_type": "code",
   "execution_count": 8,
   "id": "9ba14605",
   "metadata": {},
   "outputs": [],
   "source": [
    "# With sparse matrix, initialize to size of Users x Movies of 0s\n",
    "matrix_sparse = lil_matrix((len(user_ratings), len(known_movies)), dtype=float)\n",
    "\n",
    "# Update the matrix, user by user, setting non-zero values for the appropriate actors\n",
    "for row,this_user in enumerate(user_ratings): \n",
    "    this_user_ratings = user_ratings[this_user]\n",
    "    \n",
    "    for movie_id,rating in this_user_ratings:\n",
    "        this_movie_index = movie_id_to_index[movie_id]\n",
    "        matrix_sparse[row,this_movie_index] = rating"
   ]
  },
  {
   "cell_type": "code",
   "execution_count": 9,
   "id": "4b200dac",
   "metadata": {},
   "outputs": [
    {
     "data": {
      "text/html": [
       "<div>\n",
       "<style scoped>\n",
       "    .dataframe tbody tr th:only-of-type {\n",
       "        vertical-align: middle;\n",
       "    }\n",
       "\n",
       "    .dataframe tbody tr th {\n",
       "        vertical-align: top;\n",
       "    }\n",
       "\n",
       "    .dataframe thead th {\n",
       "        text-align: right;\n",
       "    }\n",
       "</style>\n",
       "<table border=\"1\" class=\"dataframe\">\n",
       "  <thead>\n",
       "    <tr style=\"text-align: right;\">\n",
       "      <th></th>\n",
       "      <th>10</th>\n",
       "      <th>37</th>\n",
       "      <th>51</th>\n",
       "      <th>126</th>\n",
       "      <th>152</th>\n",
       "      <th>263</th>\n",
       "      <th>284</th>\n",
       "      <th>448</th>\n",
       "      <th>626</th>\n",
       "      <th>706</th>\n",
       "      <th>...</th>\n",
       "      <th>162002</th>\n",
       "      <th>162073</th>\n",
       "      <th>162207</th>\n",
       "      <th>162257</th>\n",
       "      <th>162363</th>\n",
       "      <th>162420</th>\n",
       "      <th>162434</th>\n",
       "      <th>162464</th>\n",
       "      <th>162499</th>\n",
       "      <th>162537</th>\n",
       "    </tr>\n",
       "  </thead>\n",
       "  <tbody>\n",
       "    <tr>\n",
       "      <th>tt0274309</th>\n",
       "      <td>3.0</td>\n",
       "      <td>0.0</td>\n",
       "      <td>0.0</td>\n",
       "      <td>0.0</td>\n",
       "      <td>0.0</td>\n",
       "      <td>0.0</td>\n",
       "      <td>0.0</td>\n",
       "      <td>0.0</td>\n",
       "      <td>0.0</td>\n",
       "      <td>0.0</td>\n",
       "      <td>...</td>\n",
       "      <td>0.0</td>\n",
       "      <td>0.0</td>\n",
       "      <td>0.0</td>\n",
       "      <td>0.0</td>\n",
       "      <td>0.0</td>\n",
       "      <td>0.0</td>\n",
       "      <td>0.0</td>\n",
       "      <td>0.0</td>\n",
       "      <td>0.0</td>\n",
       "      <td>0.0</td>\n",
       "    </tr>\n",
       "    <tr>\n",
       "      <th>tt0298203</th>\n",
       "      <td>2.5</td>\n",
       "      <td>0.0</td>\n",
       "      <td>0.0</td>\n",
       "      <td>0.0</td>\n",
       "      <td>0.0</td>\n",
       "      <td>0.0</td>\n",
       "      <td>0.0</td>\n",
       "      <td>0.0</td>\n",
       "      <td>0.0</td>\n",
       "      <td>0.0</td>\n",
       "      <td>...</td>\n",
       "      <td>0.0</td>\n",
       "      <td>0.0</td>\n",
       "      <td>0.0</td>\n",
       "      <td>0.0</td>\n",
       "      <td>0.0</td>\n",
       "      <td>0.0</td>\n",
       "      <td>0.0</td>\n",
       "      <td>0.0</td>\n",
       "      <td>0.0</td>\n",
       "      <td>0.0</td>\n",
       "    </tr>\n",
       "    <tr>\n",
       "      <th>tt0315733</th>\n",
       "      <td>3.0</td>\n",
       "      <td>0.0</td>\n",
       "      <td>0.0</td>\n",
       "      <td>0.0</td>\n",
       "      <td>0.0</td>\n",
       "      <td>0.0</td>\n",
       "      <td>0.0</td>\n",
       "      <td>0.0</td>\n",
       "      <td>0.0</td>\n",
       "      <td>0.0</td>\n",
       "      <td>...</td>\n",
       "      <td>0.0</td>\n",
       "      <td>0.0</td>\n",
       "      <td>0.0</td>\n",
       "      <td>0.0</td>\n",
       "      <td>0.0</td>\n",
       "      <td>0.0</td>\n",
       "      <td>0.0</td>\n",
       "      <td>0.0</td>\n",
       "      <td>0.0</td>\n",
       "      <td>0.0</td>\n",
       "    </tr>\n",
       "    <tr>\n",
       "      <th>tt0337563</th>\n",
       "      <td>1.0</td>\n",
       "      <td>0.0</td>\n",
       "      <td>0.0</td>\n",
       "      <td>0.0</td>\n",
       "      <td>0.0</td>\n",
       "      <td>0.0</td>\n",
       "      <td>0.5</td>\n",
       "      <td>0.0</td>\n",
       "      <td>4.0</td>\n",
       "      <td>0.0</td>\n",
       "      <td>...</td>\n",
       "      <td>0.0</td>\n",
       "      <td>0.0</td>\n",
       "      <td>0.0</td>\n",
       "      <td>0.0</td>\n",
       "      <td>0.0</td>\n",
       "      <td>0.0</td>\n",
       "      <td>0.0</td>\n",
       "      <td>0.0</td>\n",
       "      <td>0.0</td>\n",
       "      <td>0.0</td>\n",
       "    </tr>\n",
       "    <tr>\n",
       "      <th>tt0463854</th>\n",
       "      <td>4.0</td>\n",
       "      <td>0.0</td>\n",
       "      <td>0.0</td>\n",
       "      <td>0.0</td>\n",
       "      <td>0.0</td>\n",
       "      <td>0.0</td>\n",
       "      <td>3.0</td>\n",
       "      <td>0.0</td>\n",
       "      <td>0.0</td>\n",
       "      <td>0.0</td>\n",
       "      <td>...</td>\n",
       "      <td>0.0</td>\n",
       "      <td>0.0</td>\n",
       "      <td>0.0</td>\n",
       "      <td>0.0</td>\n",
       "      <td>0.0</td>\n",
       "      <td>0.0</td>\n",
       "      <td>0.0</td>\n",
       "      <td>0.0</td>\n",
       "      <td>0.0</td>\n",
       "      <td>0.0</td>\n",
       "    </tr>\n",
       "    <tr>\n",
       "      <th>...</th>\n",
       "      <td>...</td>\n",
       "      <td>...</td>\n",
       "      <td>...</td>\n",
       "      <td>...</td>\n",
       "      <td>...</td>\n",
       "      <td>...</td>\n",
       "      <td>...</td>\n",
       "      <td>...</td>\n",
       "      <td>...</td>\n",
       "      <td>...</td>\n",
       "      <td>...</td>\n",
       "      <td>...</td>\n",
       "      <td>...</td>\n",
       "      <td>...</td>\n",
       "      <td>...</td>\n",
       "      <td>...</td>\n",
       "      <td>...</td>\n",
       "      <td>...</td>\n",
       "      <td>...</td>\n",
       "      <td>...</td>\n",
       "      <td>...</td>\n",
       "    </tr>\n",
       "    <tr>\n",
       "      <th>tt4241904</th>\n",
       "      <td>0.0</td>\n",
       "      <td>0.0</td>\n",
       "      <td>0.0</td>\n",
       "      <td>0.0</td>\n",
       "      <td>0.0</td>\n",
       "      <td>0.0</td>\n",
       "      <td>0.0</td>\n",
       "      <td>0.0</td>\n",
       "      <td>0.0</td>\n",
       "      <td>0.0</td>\n",
       "      <td>...</td>\n",
       "      <td>0.0</td>\n",
       "      <td>0.0</td>\n",
       "      <td>0.0</td>\n",
       "      <td>1.0</td>\n",
       "      <td>0.0</td>\n",
       "      <td>0.0</td>\n",
       "      <td>0.0</td>\n",
       "      <td>0.0</td>\n",
       "      <td>0.0</td>\n",
       "      <td>0.0</td>\n",
       "    </tr>\n",
       "    <tr>\n",
       "      <th>tt1666800</th>\n",
       "      <td>0.0</td>\n",
       "      <td>0.0</td>\n",
       "      <td>0.0</td>\n",
       "      <td>0.0</td>\n",
       "      <td>0.0</td>\n",
       "      <td>0.0</td>\n",
       "      <td>0.0</td>\n",
       "      <td>0.0</td>\n",
       "      <td>0.0</td>\n",
       "      <td>0.0</td>\n",
       "      <td>...</td>\n",
       "      <td>0.0</td>\n",
       "      <td>0.0</td>\n",
       "      <td>0.0</td>\n",
       "      <td>4.0</td>\n",
       "      <td>0.0</td>\n",
       "      <td>0.0</td>\n",
       "      <td>0.0</td>\n",
       "      <td>0.0</td>\n",
       "      <td>0.0</td>\n",
       "      <td>0.0</td>\n",
       "    </tr>\n",
       "    <tr>\n",
       "      <th>tt6806448</th>\n",
       "      <td>0.0</td>\n",
       "      <td>0.0</td>\n",
       "      <td>0.0</td>\n",
       "      <td>0.0</td>\n",
       "      <td>0.0</td>\n",
       "      <td>0.0</td>\n",
       "      <td>0.0</td>\n",
       "      <td>0.0</td>\n",
       "      <td>0.0</td>\n",
       "      <td>0.0</td>\n",
       "      <td>...</td>\n",
       "      <td>0.0</td>\n",
       "      <td>0.0</td>\n",
       "      <td>0.0</td>\n",
       "      <td>4.0</td>\n",
       "      <td>0.0</td>\n",
       "      <td>0.0</td>\n",
       "      <td>0.0</td>\n",
       "      <td>0.0</td>\n",
       "      <td>0.0</td>\n",
       "      <td>0.0</td>\n",
       "    </tr>\n",
       "    <tr>\n",
       "      <th>tt0844671</th>\n",
       "      <td>0.0</td>\n",
       "      <td>0.0</td>\n",
       "      <td>0.0</td>\n",
       "      <td>0.0</td>\n",
       "      <td>0.0</td>\n",
       "      <td>0.0</td>\n",
       "      <td>0.0</td>\n",
       "      <td>0.0</td>\n",
       "      <td>0.0</td>\n",
       "      <td>0.0</td>\n",
       "      <td>...</td>\n",
       "      <td>0.0</td>\n",
       "      <td>0.0</td>\n",
       "      <td>0.0</td>\n",
       "      <td>0.0</td>\n",
       "      <td>0.0</td>\n",
       "      <td>0.0</td>\n",
       "      <td>2.0</td>\n",
       "      <td>0.0</td>\n",
       "      <td>0.0</td>\n",
       "      <td>0.0</td>\n",
       "    </tr>\n",
       "    <tr>\n",
       "      <th>tt0472198</th>\n",
       "      <td>0.0</td>\n",
       "      <td>0.0</td>\n",
       "      <td>0.0</td>\n",
       "      <td>0.0</td>\n",
       "      <td>0.0</td>\n",
       "      <td>0.0</td>\n",
       "      <td>0.0</td>\n",
       "      <td>0.0</td>\n",
       "      <td>0.0</td>\n",
       "      <td>0.0</td>\n",
       "      <td>...</td>\n",
       "      <td>0.0</td>\n",
       "      <td>0.0</td>\n",
       "      <td>0.0</td>\n",
       "      <td>0.0</td>\n",
       "      <td>0.0</td>\n",
       "      <td>0.0</td>\n",
       "      <td>3.5</td>\n",
       "      <td>0.0</td>\n",
       "      <td>0.0</td>\n",
       "      <td>0.0</td>\n",
       "    </tr>\n",
       "  </tbody>\n",
       "</table>\n",
       "<p>4465 rows × 2244 columns</p>\n",
       "</div>"
      ],
      "text/plain": [
       "            10   37   51  126  152  263  284  448  626  706  ...  162002  \\\n",
       "tt0274309  3.0  0.0  0.0  0.0  0.0  0.0  0.0  0.0  0.0  0.0  ...     0.0   \n",
       "tt0298203  2.5  0.0  0.0  0.0  0.0  0.0  0.0  0.0  0.0  0.0  ...     0.0   \n",
       "tt0315733  3.0  0.0  0.0  0.0  0.0  0.0  0.0  0.0  0.0  0.0  ...     0.0   \n",
       "tt0337563  1.0  0.0  0.0  0.0  0.0  0.0  0.5  0.0  4.0  0.0  ...     0.0   \n",
       "tt0463854  4.0  0.0  0.0  0.0  0.0  0.0  3.0  0.0  0.0  0.0  ...     0.0   \n",
       "...        ...  ...  ...  ...  ...  ...  ...  ...  ...  ...  ...     ...   \n",
       "tt4241904  0.0  0.0  0.0  0.0  0.0  0.0  0.0  0.0  0.0  0.0  ...     0.0   \n",
       "tt1666800  0.0  0.0  0.0  0.0  0.0  0.0  0.0  0.0  0.0  0.0  ...     0.0   \n",
       "tt6806448  0.0  0.0  0.0  0.0  0.0  0.0  0.0  0.0  0.0  0.0  ...     0.0   \n",
       "tt0844671  0.0  0.0  0.0  0.0  0.0  0.0  0.0  0.0  0.0  0.0  ...     0.0   \n",
       "tt0472198  0.0  0.0  0.0  0.0  0.0  0.0  0.0  0.0  0.0  0.0  ...     0.0   \n",
       "\n",
       "           162073  162207  162257  162363  162420  162434  162464  162499  \\\n",
       "tt0274309     0.0     0.0     0.0     0.0     0.0     0.0     0.0     0.0   \n",
       "tt0298203     0.0     0.0     0.0     0.0     0.0     0.0     0.0     0.0   \n",
       "tt0315733     0.0     0.0     0.0     0.0     0.0     0.0     0.0     0.0   \n",
       "tt0337563     0.0     0.0     0.0     0.0     0.0     0.0     0.0     0.0   \n",
       "tt0463854     0.0     0.0     0.0     0.0     0.0     0.0     0.0     0.0   \n",
       "...           ...     ...     ...     ...     ...     ...     ...     ...   \n",
       "tt4241904     0.0     0.0     1.0     0.0     0.0     0.0     0.0     0.0   \n",
       "tt1666800     0.0     0.0     4.0     0.0     0.0     0.0     0.0     0.0   \n",
       "tt6806448     0.0     0.0     4.0     0.0     0.0     0.0     0.0     0.0   \n",
       "tt0844671     0.0     0.0     0.0     0.0     0.0     2.0     0.0     0.0   \n",
       "tt0472198     0.0     0.0     0.0     0.0     0.0     3.5     0.0     0.0   \n",
       "\n",
       "           162537  \n",
       "tt0274309     0.0  \n",
       "tt0298203     0.0  \n",
       "tt0315733     0.0  \n",
       "tt0337563     0.0  \n",
       "tt0463854     0.0  \n",
       "...           ...  \n",
       "tt4241904     0.0  \n",
       "tt1666800     0.0  \n",
       "tt6806448     0.0  \n",
       "tt0844671     0.0  \n",
       "tt0472198     0.0  \n",
       "\n",
       "[4465 rows x 2244 columns]"
      ]
     },
     "execution_count": 9,
     "metadata": {},
     "output_type": "execute_result"
    }
   ],
   "source": [
    "df = pd.DataFrame.sparse.from_spmatrix(\n",
    "    matrix_sparse, \n",
    "    index=[u for u in user_ratings],\n",
    "    columns=movie_ids\n",
    ").T\n",
    "df"
   ]
  },
  {
   "cell_type": "code",
   "execution_count": 10,
   "id": "41a5a1e7",
   "metadata": {},
   "outputs": [
    {
     "name": "stdout",
     "output_type": "stream",
     "text": [
      "Movies x Users dimensionality: (4465, 2244)\n"
     ]
    }
   ],
   "source": [
    "print(\"Movies x Users dimensionality:\", df.shape)"
   ]
  },
  {
   "cell_type": "code",
   "execution_count": null,
   "id": "a4817772",
   "metadata": {},
   "outputs": [],
   "source": []
  },
  {
   "cell_type": "markdown",
   "id": "c48149dc",
   "metadata": {},
   "source": [
    "## Hold Out Data for Evaluation\n",
    "\n",
    "We want to extract a set of test users on which we can evaluate our recsys. For each test user, we need to split their behavior into a seen set that we can use for recommendation and an unseen set we can use for evaluation."
   ]
  },
  {
   "cell_type": "code",
   "execution_count": 11,
   "id": "37934358",
   "metadata": {},
   "outputs": [],
   "source": [
    "user_by_movie_df = df.T"
   ]
  },
  {
   "cell_type": "code",
   "execution_count": 12,
   "id": "7e9f7fcf",
   "metadata": {},
   "outputs": [
    {
     "data": {
      "text/plain": [
       "array(['61120', '117688', '51722', '8218', '83209', '148032', '33666',\n",
       "       '6875', '33368', '149360', '78933', '152261', '43607', '104566',\n",
       "       '107434', '150468', '22927', '132242', '134939', '37746', '123631',\n",
       "       '284', '70671', '72716', '26384', '155912', '61557', '66045',\n",
       "       '62314', '96101', '142931', '39631', '98347', '158046', '11952',\n",
       "       '139538', '116349', '32180', '50848', '117581', '40521', '66657',\n",
       "       '149062', '22693', '159709', '16027', '135837', '53622', '107040',\n",
       "       '14813', '131044', '46927', '18188', '35990', '43842', '110276',\n",
       "       '159262', '151848', '68575', '21534', '144865', '58327', '68961',\n",
       "       '6004', '130631', '31211', '157961', '38626', '15103', '112622',\n",
       "       '117595', '97680', '95077', '29311', '28732', '73139', '135629',\n",
       "       '98022', '26309', '140589', '33565', '64943', '65121', '27377',\n",
       "       '104566', '7391', '154478', '65391', '149585', '1825', '112582',\n",
       "       '69698', '99405', '5510', '143030', '112724', '158919', '82123',\n",
       "       '113222', '160528'], dtype=object)"
      ]
     },
     "execution_count": 12,
     "metadata": {},
     "output_type": "execute_result"
    }
   ],
   "source": [
    "held_out_users = np.random.choice(user_by_movie_df.index, size=100)\n",
    "held_out_users"
   ]
  },
  {
   "cell_type": "code",
   "execution_count": 13,
   "id": "671372ae",
   "metadata": {},
   "outputs": [],
   "source": [
    "held_out_movies = np.random.choice(user_by_movie_df.columns, size=100)\n",
    "held_out_movies"
   ]
  },
  {
   "cell_type": "code",
   "execution_count": 24,
   "id": "4d013d31",
   "metadata": {},
   "outputs": [
    {
     "data": {
      "text/plain": [
       "array(['tt1710396', 'tt0260866', 'tt3717252', 'tt0303785', 'tt3402236',\n",
       "       'tt0884224', 'tt0189541', 'tt0361089', 'tt3335606', 'tt0449487',\n",
       "       'tt5825380', 'tt0330136', 'tt1331307', 'tt6306064', 'tt0910936',\n",
       "       'tt1531901', 'tt8954732', 'tt1954315', 'tt0310154', 'tt2371158',\n",
       "       'tt0845046', 'tt2184233', 'tt1496025', 'tt1331064', 'tt0396592',\n",
       "       'tt2309260', 'tt0266697', 'tt6452332', 'tt2253939', 'tt0196069',\n",
       "       'tt0242423', 'tt1405809', 'tt0338096', 'tt7427356', 'tt0222812',\n",
       "       'tt4943322', 'tt2395427', 'tt2109184', 'tt0289848', 'tt0489037',\n",
       "       'tt0234354', 'tt1978480', 'tt1407061', 'tt1212450', 'tt0884224',\n",
       "       'tt1478964', 'tt3177316', 'tt2910342', 'tt0244970', 'tt0278488',\n",
       "       'tt1564585', 'tt0418110', 'tt2375761', 'tt2667380', 'tt0206926',\n",
       "       'tt2967224', 'tt2709692', 'tt3566788', 'tt0478311', 'tt0241025',\n",
       "       'tt2124787', 'tt0388182', 'tt1653665', 'tt2309961', 'tt0338427',\n",
       "       'tt0273435', 'tt1659343', 'tt5328340', 'tt4669186', 'tt3725284',\n",
       "       'tt0157583', 'tt0450972', 'tt2077886', 'tt1077368', 'tt0265632',\n",
       "       'tt7785302', 'tt0403217', 'tt5129682', 'tt0207201', 'tt2802154',\n",
       "       'tt0963194', 'tt0166110', 'tt0475394', 'tt0419706', 'tt0805564',\n",
       "       'tt3260022', 'tt2262270', 'tt1122836', 'tt5113040', 'tt0430634',\n",
       "       'tt1964624', 'tt3255590', 'tt3640682', 'tt0275067', 'tt6334884',\n",
       "       'tt0120667', 'tt2091256', 'tt3104930', 'tt0367652', 'tt0489270'],\n",
       "      dtype=object)"
      ]
     },
     "execution_count": 24,
     "metadata": {},
     "output_type": "execute_result"
    }
   ],
   "source": [
    "held_out_movies"
   ]
  },
  {
   "cell_type": "code",
   "execution_count": 14,
   "id": "d09b8209",
   "metadata": {},
   "outputs": [],
   "source": [
    "# This new DataFrame has zeros where ratings used to be\n",
    "training_df = user_by_movie_df.sparse.to_dense()\n",
    "for test_user in held_out_users:\n",
    "    for test_movie in held_out_movies:\n",
    "        training_df.loc[test_user][test_movie] = 0.0"
   ]
  },
  {
   "cell_type": "code",
   "execution_count": null,
   "id": "452382df",
   "metadata": {},
   "outputs": [],
   "source": []
  },
  {
   "cell_type": "markdown",
   "id": "96f1746b",
   "metadata": {},
   "source": [
    "### Baseline Recs using Most Popular Movies\n",
    "\n",
    "As a baseline, let's rank movies by their global popularity"
   ]
  },
  {
   "cell_type": "code",
   "execution_count": 15,
   "id": "932201c6",
   "metadata": {},
   "outputs": [],
   "source": [
    "# Let's make a dataframe of just the training users, so we can evaluate\n",
    "held_in_users_df = training_df.loc[[u for u in training_df.index if u not in held_out_users]]"
   ]
  },
  {
   "cell_type": "code",
   "execution_count": 16,
   "id": "1f650808",
   "metadata": {},
   "outputs": [
    {
     "name": "stdout",
     "output_type": "stream",
     "text": [
      "tt0209144 Memento 5.0\n",
      "tt0172495 Gladiator 4.901262544512787\n",
      "tt1375666 Inception 4.876173518938168\n",
      "tt0126029 Shrek 4.4342829394626095\n",
      "tt0338013 Eternal Sunshine of the Spotless Mind 4.153447717707996\n",
      "tt0266543 Finding Nemo 3.9511168662997735\n",
      "tt0198781 Monsters, Inc. 3.8847523470378764\n",
      "tt0266697 Kill Bill: Vol. 1 3.7625445127873096\n",
      "tt0910970 WALL·E 3.39592101003561\n",
      "tt0372784 Batman Begins 3.355454839753966\n",
      "tt0240772 Ocean's Eleven 3.2680479119456134\n",
      "tt0378194 Kill Bill: Vol. 2 3.2599546778892847\n",
      "tt0246578 Donnie Darko 3.137746843638718\n",
      "tt0181689 Minority Report 3.0940433797345417\n",
      "tt0120903 X-Men 3.088378115895112\n",
      "tt1049413 Up 3.0252508902557462\n",
      "tt0264464 Catch Me If You Can 3.0163483327937843\n",
      "tt0162222 Cast Away 2.8455810942052446\n",
      "tt0145487 Spider-Man 2.818873421819359\n",
      "tt0208092 Snatch 2.7557461961799934\n"
     ]
    }
   ],
   "source": [
    "agg_movie_ratings_ = held_in_users_df.sum(axis=0)\n",
    "agg_movie_ratings = 5 * (agg_movie_ratings_ / agg_movie_ratings_.max())\n",
    "\n",
    "for movie_id,sum_rating in agg_movie_ratings.sort_values(ascending=False).head(20).items():\n",
    "    print(movie_id, movie_actor_map[movie_id][\"movie\"], sum_rating)"
   ]
  },
  {
   "cell_type": "code",
   "execution_count": 65,
   "id": "4df70221",
   "metadata": {},
   "outputs": [],
   "source": []
  },
  {
   "cell_type": "code",
   "execution_count": 72,
   "id": "e5e844f5",
   "metadata": {},
   "outputs": [],
   "source": []
  },
  {
   "cell_type": "markdown",
   "id": "90edd63c",
   "metadata": {},
   "source": [
    "## Function for Generating Recommendations based on Item Similarity"
   ]
  },
  {
   "cell_type": "code",
   "execution_count": 131,
   "id": "b7e01e0e",
   "metadata": {},
   "outputs": [],
   "source": [
    "def recs_for_user(query_user, local_df, top_k=5, threshold=0.5, centering=False):\n",
    "\n",
    "    centered_df = local_df\n",
    "    \n",
    "    if centering:\n",
    "        # center user ratings\n",
    "        centers = local_df.apply(lambda row: np.mean([x for x in row if x > 0]), axis=1)\n",
    "        centers_map = {uid:c for uid,c in centers.items()}\n",
    "        centered_df = pd.DataFrame([[v-centers_map[uid] if v > 0 else 0 for v in row] for uid,row in local_df.iterrows()])\n",
    "        centered_df.index = local_df.index\n",
    "        centered_df.columns = local_df.columns\n",
    "    \n",
    "    # Transpose the centered matrix\n",
    "    movie_rating_centered_df = centered_df.T\n",
    "\n",
    "    # Find movies this query user has ranked\n",
    "    query_ranked_movies = local_df.columns[local_df.loc[query_user] > 0]\n",
    "    \n",
    "    # We only care about rating movies that the user has NOT seen\n",
    "    query_unranked_movies = local_df.columns[local_df.loc[query_user] == 0]\n",
    "    \n",
    "    # Map of this user's ratings\n",
    "    query_user_item_ratings = {movie_id:rating \n",
    "                               for movie_id,rating in local_df.loc[query_user][query_ranked_movies].items()\n",
    "                              }\n",
    "    \n",
    "    # Find pairwise distances between items with rating and all others\n",
    "    item_distances = pairwise_distances(\n",
    "        movie_rating_centered_df.loc[query_ranked_movies], \n",
    "        movie_rating_centered_df.loc[query_unranked_movies], \n",
    "        metric=\"cosine\"\n",
    "    )\n",
    "\n",
    "    # Convert to similarity rather than distance\n",
    "    item_similarities = 1 - item_distances\n",
    "\n",
    "    # List for storing our predicted ratings\n",
    "    inferred_movie_ratings = []\n",
    "\n",
    "    # For every movie we haven't seen, which make up the columns of this sim matrix...\n",
    "    for col in range(item_similarities.shape[1]):\n",
    "\n",
    "        # Get the name of this unseen movie\n",
    "        this_unseen_movie = query_unranked_movies[col]\n",
    "\n",
    "        # Join movies seen and their similarities with the unseen movies, skipping items with similarity below threshold\n",
    "        this_rel_movies = [(m_id,sim) for m_id,sim in zip(query_ranked_movies, item_similarities[:,col]) if sim > threshold]\n",
    "\n",
    "        # Take only the top k most similar movies\n",
    "        rel_movie_ratings = sorted(this_rel_movies, key=lambda tup: tup[1], reverse=True)[:top_k]\n",
    "\n",
    "        # If we have no similar movies, skip\n",
    "        if len(rel_movie_ratings) == 0:\n",
    "            inferred_movie_ratings.append((this_unseen_movie, 0.0))\n",
    "            continue\n",
    "\n",
    "        # Re-weight the user's rating of this movie by its similarity to the unseen movie\n",
    "        this_summed_score = sum([query_user_item_ratings[mid] * sim for mid,sim in rel_movie_ratings])\n",
    "\n",
    "        # Normalize by the similarity across all rel movies\n",
    "        this_summed_sim = sum([sim for mid,sim in rel_movie_ratings])\n",
    "\n",
    "        # Calculate inferred score\n",
    "        inferred_rating = this_summed_score / this_summed_sim    \n",
    "        inferred_movie_ratings.append((this_unseen_movie, inferred_rating))\n",
    "\n",
    "\n",
    "    inferred_ratings = pd.Series([r for m,r in inferred_movie_ratings])\n",
    "    inferred_ratings.index = [m for m,r in inferred_movie_ratings]\n",
    "    \n",
    "    return inferred_ratings\n"
   ]
  },
  {
   "cell_type": "code",
   "execution_count": 133,
   "id": "051e3b7b",
   "metadata": {},
   "outputs": [
    {
     "data": {
      "text/plain": [
       "tt1049413    5.000000\n",
       "tt0365737    5.000000\n",
       "tt0910970    5.000000\n",
       "tt0371746    4.500000\n",
       "tt0800039    4.500000\n",
       "tt0180093    4.500000\n",
       "tt0162222    4.500000\n",
       "tt0830515    4.500000\n",
       "tt0338013    4.369934\n",
       "tt0372784    4.300401\n",
       "tt0266543    4.280399\n",
       "tt0268380    4.163309\n",
       "tt0264464    4.119849\n",
       "tt0378194    4.117762\n",
       "tt0266697    4.114650\n",
       "tt0926084    4.000000\n",
       "tt0417741    4.000000\n",
       "tt1156398    4.000000\n",
       "tt0413300    4.000000\n",
       "tt0467406    4.000000\n",
       "dtype: float64"
      ]
     },
     "execution_count": 133,
     "metadata": {},
     "output_type": "execute_result"
    }
   ],
   "source": [
    "recs_for_user(\"90141\", training_df, top_k=5, centering=False).sort_values(ascending=False).head(20)"
   ]
  },
  {
   "cell_type": "code",
   "execution_count": 119,
   "id": "77704e14",
   "metadata": {},
   "outputs": [
    {
     "name": "stdout",
     "output_type": "stream",
     "text": [
      "tt0382932 Ratatouille 5.0\n",
      "tt0375679 Crash 5.0\n",
      "tt0443453 Borat: Cultural Learnings of America for Make Benefit Glorious Nation of Kazakhstan 5.0\n",
      "tt0335266 Lost in Translation 5.0\n",
      "tt0379725 Capote 5.0\n",
      "tt0433383 Good Night, and Good Luck. 5.0\n",
      "tt0388795 Brokeback Mountain 5.0\n",
      "tt0126029 Shrek 4.5\n",
      "tt0478311 Knocked Up 4.5\n",
      "tt0120755 Mission: Impossible II 4.5\n",
      "tt0290334 X2: X-Men United 4.5\n",
      "tt0381061 Casino Royale 4.5\n",
      "tt0190590 O Brother, Where Art Thou? 4.5\n",
      "tt0259446 My Big Fat Greek Wedding 4.5\n",
      "tt0401792 Sin City 4.5\n",
      "tt0172495 Gladiator 4.5\n",
      "tt0259711 Vanilla Sky 4.5\n",
      "tt0246578 Donnie Darko 4.5\n",
      "tt0295297 Harry Potter and the Chamber of Secrets 4.0\n",
      "tt0276751 About a Boy 4.0\n",
      "tt0145487 Spider-Man 4.0\n",
      "tt0395169 Hotel Rwanda 4.0\n",
      "tt0258000 Panic Room 4.0\n",
      "tt0365748 Shaun of the Dead 4.0\n",
      "tt0369339 Collateral 4.0\n",
      "tt0343818 I, Robot 4.0\n",
      "tt0316654 Spider-Man 2 4.0\n",
      "tt0198781 Monsters, Inc. 4.0\n",
      "tt0120903 X-Men 4.0\n",
      "tt0240772 Ocean's Eleven 4.0\n",
      "tt0298148 Shrek 2 4.0\n",
      "tt0425112 Hot Fuzz 4.0\n",
      "tt0450259 Blood Diamond 4.0\n",
      "tt0181689 Minority Report 4.0\n",
      "tt0209144 Memento 4.0\n",
      "tt0449059 Little Miss Sunshine 4.0\n",
      "tt0358273 Walk the Line 4.0\n",
      "tt0243155 Bridget Jones's Diary 3.5\n",
      "tt0212338 Meet the Parents 3.5\n",
      "tt0121765 Star Wars: Episode II - Attack of the Clones 3.5\n",
      "tt0360717 King Kong 3.5\n",
      "tt0250494 Legally Blonde 3.5\n",
      "tt0212720 A.I. Artificial Intelligence 3.5\n",
      "tt0181852 Terminator 3: Rise of the Machines 3.5\n",
      "tt0405159 Million Dollar Baby 3.5\n",
      "tt0286499 Bend It Like Beckham 3.5\n",
      "tt0208092 Snatch 3.5\n",
      "tt0133152 Planet of the Apes 3.0\n",
      "tt0332379 School of Rock 3.0\n",
      "tt0206634 Children of Men 2.0\n"
     ]
    }
   ],
   "source": [
    "# Find movies this query user has ranked\n",
    "query_user = \"90141\"\n",
    "query_ranked_movies = training_df.columns[training_df.loc[query_user] > 0]\n",
    "\n",
    "# Print this user's rated movies, ranked by rating\n",
    "for movie_id, rating in training_df.loc[query_user].sort_values(ascending=False).items():\n",
    "    # Only print movies that have a rating\n",
    "    if rating == 0:\n",
    "        continue\n",
    "        \n",
    "    print(movie_id, movie_actor_map[movie_id][\"movie\"], rating)"
   ]
  },
  {
   "cell_type": "markdown",
   "id": "a734198b",
   "metadata": {},
   "source": [
    "### Evaluate This Baseline on the Held-Out Users"
   ]
  },
  {
   "cell_type": "code",
   "execution_count": 19,
   "id": "cc869fda",
   "metadata": {},
   "outputs": [],
   "source": [
    "# For Precision@k, set k to a reasonably low value\n",
    "#. It's low because we don't want to provide many recommendations\n",
    "top_k = 3"
   ]
  },
  {
   "cell_type": "code",
   "execution_count": 20,
   "id": "5086dd10",
   "metadata": {},
   "outputs": [
    {
     "name": "stdout",
     "output_type": "stream",
     "text": [
      "Skipping user with no ratings in held-out set: 117688\n",
      "Skipping user with no ratings in held-out set: 51722\n",
      "Skipping user with no ratings in held-out set: 83209\n",
      "Skipping user with no ratings in held-out set: 148032\n",
      "Skipping user with no ratings in held-out set: 33666\n",
      "Skipping user with no ratings in held-out set: 33368\n",
      "Skipping user with no ratings in held-out set: 149360\n",
      "Skipping user with no ratings in held-out set: 152261\n",
      "Skipping user with no ratings in held-out set: 107434\n",
      "Skipping user with no ratings in held-out set: 22927\n",
      "Skipping user with no ratings in held-out set: 132242\n",
      "Skipping user with no ratings in held-out set: 37746\n",
      "Skipping user with no ratings in held-out set: 123631\n",
      "Skipping user with no ratings in held-out set: 26384\n",
      "Skipping user with no ratings in held-out set: 155912\n",
      "Skipping user with no ratings in held-out set: 62314\n",
      "Skipping user with no ratings in held-out set: 96101\n",
      "Skipping user with no ratings in held-out set: 142931\n",
      "Skipping user with no ratings in held-out set: 39631\n",
      "Skipping user with no ratings in held-out set: 98347\n",
      "Skipping user with no ratings in held-out set: 32180\n",
      "Skipping user with no ratings in held-out set: 50848\n",
      "Skipping user with no ratings in held-out set: 117581\n",
      "Skipping user with no ratings in held-out set: 149062\n",
      "Skipping user with no ratings in held-out set: 22693\n",
      "Skipping user with no ratings in held-out set: 16027\n",
      "Skipping user with no ratings in held-out set: 107040\n",
      "Skipping user with no ratings in held-out set: 14813\n",
      "Skipping user with no ratings in held-out set: 131044\n",
      "Skipping user with no ratings in held-out set: 35990\n",
      "Skipping user with no ratings in held-out set: 110276\n",
      "Skipping user with no ratings in held-out set: 159262\n",
      "Skipping user with no ratings in held-out set: 151848\n",
      "Skipping user with no ratings in held-out set: 68575\n",
      "Skipping user with no ratings in held-out set: 144865\n",
      "Skipping user with no ratings in held-out set: 6004\n",
      "Skipping user with no ratings in held-out set: 130631\n",
      "Skipping user with no ratings in held-out set: 31211\n",
      "Skipping user with no ratings in held-out set: 38626\n",
      "Skipping user with no ratings in held-out set: 15103\n",
      "Skipping user with no ratings in held-out set: 117595\n",
      "Skipping user with no ratings in held-out set: 95077\n",
      "Skipping user with no ratings in held-out set: 29311\n",
      "Skipping user with no ratings in held-out set: 73139\n",
      "Skipping user with no ratings in held-out set: 135629\n",
      "Skipping user with no ratings in held-out set: 98022\n",
      "Skipping user with no ratings in held-out set: 26309\n",
      "Skipping user with no ratings in held-out set: 140589\n",
      "Skipping user with no ratings in held-out set: 64943\n",
      "Skipping user with no ratings in held-out set: 65121\n",
      "Skipping user with no ratings in held-out set: 27377\n",
      "Skipping user with no ratings in held-out set: 154478\n",
      "Skipping user with no ratings in held-out set: 65391\n",
      "Skipping user with no ratings in held-out set: 149585\n",
      "Skipping user with no ratings in held-out set: 1825\n",
      "Skipping user with no ratings in held-out set: 112582\n",
      "Skipping user with no ratings in held-out set: 69698\n",
      "Skipping user with no ratings in held-out set: 99405\n",
      "Skipping user with no ratings in held-out set: 5510\n",
      "Skipping user with no ratings in held-out set: 112724\n",
      "Skipping user with no ratings in held-out set: 82123\n",
      "Skipping user with no ratings in held-out set: 113222\n"
     ]
    }
   ],
   "source": [
    "base_metrics = []\n",
    "\n",
    "for u in held_out_users:\n",
    "\n",
    "    this_held_out_movies = user_by_movie_df.loc[u][held_out_movies]\n",
    "    if sum(this_held_out_movies) == 0:\n",
    "        print(\"Skipping user with no ratings in held-out set:\", u)\n",
    "        continue\n",
    "\n",
    "    # Calculate mean squared error\n",
    "    mse = mean_squared_error(this_held_out_movies, agg_movie_ratings[held_out_movies])\n",
    "    \n",
    "    # Pearson correlation for rankings\n",
    "    corr_p = pearsonr(this_held_out_movies, agg_movie_ratings[held_out_movies])[0]\n",
    "    \n",
    "    # Spearman correlation for *rankings* rather than overall ratings\n",
    "    corr_s = spearmanr(this_held_out_movies, agg_movie_ratings[held_out_movies]).correlation\n",
    "    \n",
    "    # Top k rankings, i.e., what's the similarity between the top-k for this user and all the dataset?\n",
    "    this_top_k = set(this_held_out_movies.sort_values(ascending=False).head(top_k).keys())\n",
    "    global_top_k = set(agg_movie_ratings[held_out_movies].sort_values(ascending=False).head(top_k).keys())\n",
    "\n",
    "    # What's the Precision between this user's top-k and global top-k?\n",
    "    precision_at_k = len(this_top_k.intersection(global_top_k)) / len(this_top_k)\n",
    "    \n",
    "    base_metrics.append({\n",
    "        \"mse\": mse,\n",
    "        \"pearson\": corr_p,\n",
    "        \"spearman\": corr_s,\n",
    "        \"pr@k\": precision_at_k,\n",
    "    })\n",
    "    "
   ]
  },
  {
   "cell_type": "code",
   "execution_count": 21,
   "id": "1fae5910",
   "metadata": {},
   "outputs": [
    {
     "data": {
      "text/plain": [
       "mse         0.260393\n",
       "pearson     0.631305\n",
       "spearman    0.240923\n",
       "pr@k        0.368421\n",
       "dtype: float64"
      ]
     },
     "execution_count": 21,
     "metadata": {},
     "output_type": "execute_result"
    }
   ],
   "source": [
    "base_metrics_df = pd.DataFrame(base_metrics)\n",
    "base_metrics_df.mean()"
   ]
  },
  {
   "cell_type": "code",
   "execution_count": null,
   "id": "20622aed",
   "metadata": {},
   "outputs": [],
   "source": []
  },
  {
   "cell_type": "code",
   "execution_count": 141,
   "id": "acfd0d78",
   "metadata": {
    "scrolled": true
   },
   "outputs": [
    {
     "name": "stdout",
     "output_type": "stream",
     "text": [
      "Skipping user with no ratings in held-out set: 117688\n",
      "Skipping user with no ratings in held-out set: 51722\n",
      "Skipping user with no ratings in held-out set: 83209\n",
      "Skipping user with no ratings in held-out set: 148032\n",
      "Skipping user with no ratings in held-out set: 33666\n",
      "Skipping user with no ratings in held-out set: 33368\n",
      "Skipping user with no ratings in held-out set: 149360\n",
      "Skipping user with no ratings in held-out set: 152261\n"
     ]
    },
    {
     "name": "stderr",
     "output_type": "stream",
     "text": [
      "/Users/cbuntain/Development/anaconda3/lib/python3.8/site-packages/scipy/stats/stats.py:3913: PearsonRConstantInputWarning: An input array is constant; the correlation coefficent is not defined.\n",
      "  warnings.warn(PearsonRConstantInputWarning())\n",
      "/Users/cbuntain/Development/anaconda3/lib/python3.8/site-packages/scipy/stats/stats.py:4264: SpearmanRConstantInputWarning: An input array is constant; the correlation coefficent is not defined.\n",
      "  warnings.warn(SpearmanRConstantInputWarning())\n"
     ]
    },
    {
     "name": "stdout",
     "output_type": "stream",
     "text": [
      "Skipping user with no ratings in held-out set: 107434\n",
      "Skipping user with no ratings in held-out set: 22927\n",
      "Skipping user with no ratings in held-out set: 132242\n",
      "Skipping user with no ratings in held-out set: 37746\n"
     ]
    },
    {
     "name": "stderr",
     "output_type": "stream",
     "text": [
      "/Users/cbuntain/Development/anaconda3/lib/python3.8/site-packages/scipy/stats/stats.py:3913: PearsonRConstantInputWarning: An input array is constant; the correlation coefficent is not defined.\n",
      "  warnings.warn(PearsonRConstantInputWarning())\n",
      "/Users/cbuntain/Development/anaconda3/lib/python3.8/site-packages/scipy/stats/stats.py:4264: SpearmanRConstantInputWarning: An input array is constant; the correlation coefficent is not defined.\n",
      "  warnings.warn(SpearmanRConstantInputWarning())\n"
     ]
    },
    {
     "name": "stdout",
     "output_type": "stream",
     "text": [
      "Skipping user with no ratings in held-out set: 123631\n"
     ]
    },
    {
     "name": "stderr",
     "output_type": "stream",
     "text": [
      "/Users/cbuntain/Development/anaconda3/lib/python3.8/site-packages/scipy/stats/stats.py:3913: PearsonRConstantInputWarning: An input array is constant; the correlation coefficent is not defined.\n",
      "  warnings.warn(PearsonRConstantInputWarning())\n",
      "/Users/cbuntain/Development/anaconda3/lib/python3.8/site-packages/scipy/stats/stats.py:4264: SpearmanRConstantInputWarning: An input array is constant; the correlation coefficent is not defined.\n",
      "  warnings.warn(SpearmanRConstantInputWarning())\n"
     ]
    },
    {
     "name": "stdout",
     "output_type": "stream",
     "text": [
      "Skipping user with no ratings in held-out set: 26384\n",
      "Skipping user with no ratings in held-out set: 155912\n",
      "Skipping user with no ratings in held-out set: 62314\n",
      "Skipping user with no ratings in held-out set: 96101\n",
      "Skipping user with no ratings in held-out set: 142931\n",
      "Skipping user with no ratings in held-out set: 39631\n",
      "Skipping user with no ratings in held-out set: 98347\n",
      "Skipping user with no ratings in held-out set: 32180\n",
      "Skipping user with no ratings in held-out set: 50848\n",
      "Skipping user with no ratings in held-out set: 117581\n",
      "Skipping user with no ratings in held-out set: 149062\n",
      "Skipping user with no ratings in held-out set: 22693\n",
      "Skipping user with no ratings in held-out set: 16027\n",
      "Skipping user with no ratings in held-out set: 107040\n",
      "Skipping user with no ratings in held-out set: 14813\n",
      "Skipping user with no ratings in held-out set: 131044\n",
      "Skipping user with no ratings in held-out set: 35990\n",
      "Skipping user with no ratings in held-out set: 110276\n",
      "Skipping user with no ratings in held-out set: 159262\n",
      "Skipping user with no ratings in held-out set: 151848\n",
      "Skipping user with no ratings in held-out set: 68575\n",
      "Skipping user with no ratings in held-out set: 144865\n",
      "Skipping user with no ratings in held-out set: 6004\n",
      "Skipping user with no ratings in held-out set: 130631\n",
      "Skipping user with no ratings in held-out set: 31211\n",
      "Skipping user with no ratings in held-out set: 38626\n",
      "Skipping user with no ratings in held-out set: 15103\n",
      "Skipping user with no ratings in held-out set: 117595\n",
      "Skipping user with no ratings in held-out set: 95077\n",
      "Skipping user with no ratings in held-out set: 29311\n",
      "Skipping user with no ratings in held-out set: 73139\n",
      "Skipping user with no ratings in held-out set: 135629\n",
      "Skipping user with no ratings in held-out set: 98022\n",
      "Skipping user with no ratings in held-out set: 26309\n",
      "Skipping user with no ratings in held-out set: 140589\n",
      "Skipping user with no ratings in held-out set: 64943\n",
      "Skipping user with no ratings in held-out set: 65121\n",
      "Skipping user with no ratings in held-out set: 27377\n"
     ]
    },
    {
     "name": "stderr",
     "output_type": "stream",
     "text": [
      "/Users/cbuntain/Development/anaconda3/lib/python3.8/site-packages/scipy/stats/stats.py:3913: PearsonRConstantInputWarning: An input array is constant; the correlation coefficent is not defined.\n",
      "  warnings.warn(PearsonRConstantInputWarning())\n",
      "/Users/cbuntain/Development/anaconda3/lib/python3.8/site-packages/scipy/stats/stats.py:4264: SpearmanRConstantInputWarning: An input array is constant; the correlation coefficent is not defined.\n",
      "  warnings.warn(SpearmanRConstantInputWarning())\n"
     ]
    },
    {
     "name": "stdout",
     "output_type": "stream",
     "text": [
      "Skipping user with no ratings in held-out set: 154478\n",
      "Skipping user with no ratings in held-out set: 65391\n",
      "Skipping user with no ratings in held-out set: 149585\n",
      "Skipping user with no ratings in held-out set: 1825\n",
      "Skipping user with no ratings in held-out set: 112582\n",
      "Skipping user with no ratings in held-out set: 69698\n",
      "Skipping user with no ratings in held-out set: 99405\n",
      "Skipping user with no ratings in held-out set: 5510\n",
      "Skipping user with no ratings in held-out set: 112724\n",
      "Skipping user with no ratings in held-out set: 82123\n",
      "Skipping user with no ratings in held-out set: 113222\n"
     ]
    }
   ],
   "source": [
    "new_metrics = []\n",
    "\n",
    "for u in held_out_users:\n",
    "\n",
    "    this_held_out_movies = user_by_movie_df.loc[u][held_out_movies]\n",
    "    if sum(this_held_out_movies) == 0:\n",
    "        print(\"Skipping user with no ratings in held-out set:\", u)\n",
    "        continue\n",
    "        \n",
    "    i2i_movie_ratings = recs_for_user(u, training_df, top_k=3, centering=False)\n",
    "\n",
    "    # Calculate mean squared error\n",
    "    mse = mean_squared_error(this_held_out_movies, i2i_movie_ratings[held_out_movies])\n",
    "    \n",
    "    # Pearson correlation for rankings\n",
    "    corr_p = pearsonr(this_held_out_movies, i2i_movie_ratings[held_out_movies])[0]\n",
    "    \n",
    "    # Spearman correlation for *rankings* rather than overall ratings\n",
    "    corr_s = spearmanr(this_held_out_movies, i2i_movie_ratings[held_out_movies]).correlation\n",
    "    \n",
    "    # Top k rankings, i.e., what's the similarity between the top-k for this user and all the dataset?\n",
    "    this_top_k = set(this_held_out_movies.sort_values(ascending=False).head(top_k).keys())\n",
    "    global_top_k = set(i2i_movie_ratings[held_out_movies].sort_values(ascending=False).head(top_k).keys())\n",
    "\n",
    "    # What's the Precision between this user's top-k and global top-k?\n",
    "    precision_at_k = len(this_top_k.intersection(global_top_k)) / len(this_top_k)\n",
    "    \n",
    "    new_metrics.append({\n",
    "        \"mse\": mse,\n",
    "        \"pearson\": corr_p,\n",
    "        \"spearman\": corr_s,\n",
    "        \"pr@k\": precision_at_k,\n",
    "    })\n",
    "    \n"
   ]
  },
  {
   "cell_type": "code",
   "execution_count": 142,
   "id": "1aef5495",
   "metadata": {},
   "outputs": [
    {
     "data": {
      "text/plain": [
       "mse         0.454920\n",
       "pearson     0.600100\n",
       "spearman    0.584837\n",
       "pr@k        0.561404\n",
       "dtype: float64"
      ]
     },
     "execution_count": 142,
     "metadata": {},
     "output_type": "execute_result"
    }
   ],
   "source": [
    "new_metrics_df = pd.DataFrame(new_metrics)\n",
    "new_metrics_df.mean()"
   ]
  },
  {
   "cell_type": "markdown",
   "id": "c02d338a",
   "metadata": {},
   "source": [
    "## Visually Compare Metrics\n",
    "\n",
    "Plot the performance metrics between the baseline and provided recommendations, with ~95% confidence interval error bars, so we can see whether we get significant increases."
   ]
  },
  {
   "cell_type": "code",
   "execution_count": 143,
   "id": "500ce6a9",
   "metadata": {},
   "outputs": [
    {
     "data": {
      "image/png": "[encoded data removed]",
      "text/plain": [
       "<Figure size 1152x648 with 1 Axes>"
      ]
     },
     "metadata": {
      "needs_background": "light"
     },
     "output_type": "display_data"
    }
   ],
   "source": [
    "figure = plt.figure(figsize=(16,9))\n",
    "ax = figure.add_subplot(1,1,1)\n",
    "\n",
    "base_metric_err = 2*base_metrics_df.std() / np.sqrt(base_metrics_df.shape[0])\n",
    "new_metric_err = 2 * new_metrics_df.std() / np.sqrt(new_metrics_df.shape[0])\n",
    "\n",
    "width = 0.25\n",
    "ax.bar(x=[x-width/2 for x in range(4)], height=base_metrics_df.mean(), yerr=base_metric_err, width=width)\n",
    "ax.bar(x=[x+width/2 for x in range(4)], height=new_metrics_df.mean(), yerr=new_metric_err,  width=width)\n",
    "\n",
    "ax.set_xticks(range(4))\n",
    "ax.set_xticklabels(base_metrics_df.columns)\n",
    "\n",
    "plt.show()"
   ]
  },
  {
   "cell_type": "code",
   "execution_count": null,
   "id": "6230ae68",
   "metadata": {},
   "outputs": [],
   "source": []
  }
 ],
 "metadata": {
  "kernelspec": {
   "display_name": "Python 3",
   "language": "python",
   "name": "python3"
  },
  "language_info": {
   "codemirror_mode": {
    "name": "ipython",
    "version": 3
   },
   "file_extension": ".py",
   "mimetype": "text/x-python",
   "name": "python",
   "nbconvert_exporter": "python",
   "pygments_lexer": "ipython3",
   "version": "3.8.8"
  }
 },
 "nbformat": 4,
 "nbformat_minor": 5
}
